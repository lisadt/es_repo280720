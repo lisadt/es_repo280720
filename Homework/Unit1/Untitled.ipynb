{
 "cells": [
  {
   "cell_type": "code",
   "execution_count": 1,
   "metadata": {},
   "outputs": [],
   "source": [
    "from bs4 import BeautifulSoup\n"
   ]
  },
  {
   "cell_type": "code",
   "execution_count": 2,
   "metadata": {},
   "outputs": [],
   "source": [
    "import requests"
   ]
  },
  {
   "cell_type": "code",
   "execution_count": 5,
   "metadata": {},
   "outputs": [],
   "source": [
    "url ='http://www.jonathanbech.tel/data-science-part-time-class'"
   ]
  },
  {
   "cell_type": "code",
   "execution_count": 6,
   "metadata": {},
   "outputs": [],
   "source": [
    "req=requests.get(url)"
   ]
  },
  {
   "cell_type": "code",
   "execution_count": 7,
   "metadata": {},
   "outputs": [
    {
     "data": {
      "text/plain": [
       "<Response [200]>"
      ]
     },
     "execution_count": 7,
     "metadata": {},
     "output_type": "execute_result"
    }
   ],
   "source": [
    "req"
   ]
  },
  {
   "cell_type": "code",
   "execution_count": 9,
   "metadata": {},
   "outputs": [],
   "source": [
    "scraper = BeautifulSoup(req.text)"
   ]
  },
  {
   "cell_type": "code",
   "execution_count": 10,
   "metadata": {},
   "outputs": [
    {
     "data": {
      "text/plain": [
       "bs4.BeautifulSoup"
      ]
     },
     "execution_count": 10,
     "metadata": {},
     "output_type": "execute_result"
    }
   ],
   "source": [
    "type(scraper)"
   ]
  },
  {
   "cell_type": "code",
   "execution_count": 12,
   "metadata": {},
   "outputs": [],
   "source": [
    "divs=scraper.find_all('div')"
   ]
  },
  {
   "cell_type": "code",
   "execution_count": 15,
   "metadata": {},
   "outputs": [
    {
     "data": {
      "text/plain": [
       "<div class=\"collapse navbar-collapse\" id=\"navbarsExampleDefault\">\n",
       "<ul class=\"navbar-nav mr-auto\">\n",
       "<li class=\"nav-item active\">\n",
       "<a class=\"nav-link\" href=\"/\">Home<span class=\"sr-only\">(current)</span></a>\n",
       "</li>\n",
       "<li class=\"nav-item dropdown\">\n",
       "<a aria-expanded=\"false\" aria-haspopup=\"true\" class=\"nav-link dropdown-toggle\" data-toggle=\"dropdown\" href=\"#\" id=\"dropdown01\">Teaching</a>\n",
       "<div aria-labelledby=\"dropdown01\" class=\"dropdown-menu\">\n",
       "<a class=\"dropdown-item\" href=\"/data-science-part-time-class\">Part Time Class</a>\n",
       "<a class=\"dropdown-item\" href=\"/webinars\">Webinars</a>\n",
       "</div>\n",
       "</li>\n",
       "<li class=\"nav-item\">\n",
       "<a class=\"nav-link\" href=\"/contact\">Contact</a>\n",
       "</li>\n",
       "</ul>\n",
       "</div>"
      ]
     },
     "execution_count": 15,
     "metadata": {},
     "output_type": "execute_result"
    }
   ],
   "source": [
    "divs[1]"
   ]
  },
  {
   "cell_type": "code",
   "execution_count": 16,
   "metadata": {},
   "outputs": [],
   "source": [
    "paragraphs = scraper.find_all('p')"
   ]
  },
  {
   "cell_type": "code",
   "execution_count": 18,
   "metadata": {},
   "outputs": [
    {
     "data": {
      "text/plain": [
       "<p class=\"text-center\">I teach a 10 week part time class that aims to give students a rapid introduction to the field of data science that's designed to be equal parts\n",
       "      practical, relevant, and hands on.</p>"
      ]
     },
     "execution_count": 18,
     "metadata": {},
     "output_type": "execute_result"
    }
   ],
   "source": [
    "paragraphs[0]"
   ]
  },
  {
   "cell_type": "code",
   "execution_count": 19,
   "metadata": {},
   "outputs": [],
   "source": [
    "buttons = scraper.find_all('button', {'class': 'btn'}, {'class': 'btn-link'})"
   ]
  },
  {
   "cell_type": "code",
   "execution_count": 21,
   "metadata": {},
   "outputs": [
    {
     "data": {
      "text/plain": [
       "<button aria-controls=\"collapse0\" aria-expanded=\"false\" class=\"btn btn-link\" data-target=\"#collapse0\" data-toggle=\"collapse\">\n",
       "              Unit 1, - Class 1 -- Class Intro -- Course Overview, Git Setup, DS Intro\n",
       "          </button>"
      ]
     },
     "execution_count": 21,
     "metadata": {},
     "output_type": "execute_result"
    }
   ],
   "source": [
    "buttons[0]"
   ]
  },
  {
   "cell_type": "code",
   "execution_count": 23,
   "metadata": {},
   "outputs": [],
   "source": [
    "divclass=scraper.find_all('div', {'class': 'card-body'})"
   ]
  },
  {
   "cell_type": "code",
   "execution_count": 24,
   "metadata": {},
   "outputs": [
    {
     "data": {
      "text/plain": [
       "[<div class=\"card-body\">\n",
       "             Welcome to DAT!  The first class will go over the essentials of the class, and give students a quick overview of what's to come.  We'll go over the syllabus, and have everyone setup their github repo for the class, which will be used to distribute class material.  We'll also cover some of the most basic commands you use to navigate git.  We'll finish the class by going over the Data Science workflow and finish the class by looking at a simple, but complete data science script!\n",
       "           </div>,\n",
       " <div class=\"card-body\">\n",
       "             Class 2 will be the only class exclusively devoted to pure python programming.  We'll go over the most commonly used elements of the python syntax: conditional logic and for-loops.  Beginner students will have more straight-forward exercises to complete to make sure they understand basic fundamentals, and advanced students will have a chance to explore more complicated programming tasks that allow them to programatically interact with their operating system and lesser known looping techniques that are very useful for ML programming.\n",
       "           </div>,\n",
       " <div class=\"card-body\">\n",
       "             API's are one of the most useful sources for acquiring unique data to work on.  Many data scientists will secretly tell you that they spend more time working through API's than they do building machine learning models!  Today's class starts with an introduction to the data structure most commonly used for transporting API data, and the lab allows students to use the github API to build their own dataset.  There will also be an introductory programming assignment for students who are newer to programming to make sure they feel comfortable with the basics.\n",
       "           </div>,\n",
       " <div class=\"card-body\">\n",
       "             This class will cover two different programming concepts:  python functions for the uninitiated, and the Beautiful Soup library, the most commonly used web scraper in the python ecosystem.  Beginner students will have a chance to continue to fine tune their programming chops, while more advanced ones will build a web scraper that will scrape the General Assembly website and build a dataset for all of its upcoming classes!\n",
       "           </div>,\n",
       " <div class=\"card-body\">\n",
       "             Welcome to Unit 2!!  This unit tackles the area where data scientists typically spend 50% of their time:  cleaning, managing, and visualizing data!  Understanding how to think about structuring and manipulating data to get it to work according to your stated objectives.  Today's class will introduce students to the basics of the pandas library, where we go over its most common syntactical patterns and operations.\n",
       "           </div>,\n",
       " <div class=\"card-body\">\n",
       "             What's the best way to efficiently fill in missing values?  What if we want to apply an operation to numeric data and nothing else?  These sorts of operations and many more are cleanly built into the Pandas API, and this class provides a crash course on the most succinct way of implementing the dozen or so most common of these types of operations.\n",
       "           </div>,\n",
       " <div class=\"card-body\">\n",
       "             More fun with cleaning data:  today we go over common strategies for using pandas to summarize and merge data.  We also go over some of the most common tools to extract time based data, which is often one of the most informative portions of your dataset.\n",
       "           </div>,\n",
       " <div class=\"card-body\">\n",
       "             Today we continue to work with time based data, but adding an additional, complicated twist.  What if you want to extract information that compares data that happened today with data that happened last week?  Last year?  Understanding how to capture this data is critically important for adequately capturing the information contained within your dataset.  \n",
       " \n",
       " Additionally, we look to add the following twist:  how do you perform these operations if your data is structured in hierarchies?  Hierarchical data is a common pattern in real world datasets, and understanding how to work with it is a common competency that data scientists must have in their tool belt.  \n",
       "           </div>,\n",
       " <div class=\"card-body\">\n",
       "             Today's class goes over the fundamentals of plotting and visualization with one of the most powerful python graphing tools:  Plot.ly.  The class goes over the basics of creating charts of various ilk, and later covers how the tool can be used to make your charts interactive and used in interactive dashboards.\n",
       "           </div>,\n",
       " <div class=\"card-body\">\n",
       "             In today's class students will break into groups to present their unit 2 homework projects.  In the second half, we'll kick off unit 3 with a discussion of decision trees.  Decision trees are one of the most common base learners in powerful ML models.  We'll walk through their basic workings, as well as their largest strengths and weaknesses.\n",
       "           </div>,\n",
       " <div class=\"card-body\">\n",
       "             With our knowledge of decision trees behind us, we'll discuss the most powerful technique for analyzing structured data:  gradient boosting.  Today's class will go over its main workings, and the lab will allow us to take our first deep dive into the most common python ML library:  SciKit-Learn.\n",
       "           </div>,\n",
       " <div class=\"card-body\">\n",
       "             In today's class we'll go over some of the most important techniques for prepping data for Machine Learning models.  This includes dealing with categorical (text) based data, as well as how to treat data within training and test sets.  The class will finish with one of the most powerful techniques for visualizing \"black box\" models: partial dependence plotting.\n",
       "           </div>,\n",
       " <div class=\"card-body\">\n",
       "             How do we know our results will generalize to out-of-sample data?  What's the best way to surmise whether or not a change to our model or dataset will provide an enduring improvement?  These are critical questions to ask when embarking on a data science problem, and we'll discuss the framework to use for answering these questions.  In doing so, we'll discuss how to create data pipelines for your models and testing parameter changes to your model.\n",
       "           </div>,\n",
       " <div class=\"card-body\">\n",
       "             Now we'll shift our attention to using gradient boosting for classification -- when you have to predict a category and not a number.  We'll talk about the most common issues practitioners face when working with classification:  imbalanced classes. In doing so we'll look at a more modern, specialized implementation of Gradient Boosting:  xgboost!  Xgboost is a high performance implementation of gradient boosting that is better built for parallelization and large, messy datasets and is the most common implementation of gradient boosting used for production ml models.\n",
       "           </div>,\n",
       " <div class=\"card-body\">\n",
       "             We'll wrap up unit 3 by having students present their unit 3 homework to one another and finish discussing important details for working with classification models:  ROC Curves.\n",
       "           </div>,\n",
       " <div class=\"card-body\">\n",
       "             Welcome to unit 4!  With unit 3 behind us, we'll move past gradient boosting and take a close look at the primary method to use on unstructured data:  deep learning.  Deep learning is the application of neural networks with at least 2 hidden layers of weights.  This class is mostly perceptual in nature where we have a prolonged lab that allows students to understand how a neural network makes its calculations.  We'll take a look at the last library that we'll use in this class:  Tensorflow, and its high level wrapper Keras.\n",
       "           </div>,\n",
       " <div class=\"card-body\">\n",
       "             Today's class will begin our last applied topic of the Data Science part-time class:  NLP (Natural Language Processing).  Unstructured, natural text is a natural fit for neural networks due to its dense, yet subtle and perceptual nature. We'll begin class with the most useful operations for prepping text data, and we'll end class by building word embeddings into a neural network to understand the statistical relationship between different word sequences.\n",
       "           </div>,\n",
       " <div class=\"card-body\">\n",
       "             To continue our discussion of NLP, we'll talk about a highly specialized neural network layers which is frequently used for dealing with data that is sequential in nature:  the Recurrent Neural Network.  The RNN dominates sequential data, and we'll go into a deeper discussion of the most commonly used RNN layer for top performance:  the Long Short Term Memory neural network architecture.  \n",
       " \n",
       " We'll finish class by discussing Transfer Learning, the art of importing pre-trained neural networks to be used for your own projects.\n",
       "           </div>,\n",
       " <div class=\"card-body\">\n",
       "             We'll finish our discussion of NLP by using techniques that are less than one year old and are being used companies like Google and Microsoft to get world-class results:  the Transformer neural network architecture.  \n",
       " \n",
       " Transformers have been a revolution in NLP and have been hailed as bringing in the coming of age of top-flight NLP models.  We'll discuss how to use these models for our own projects, and how to reuse several transformer architectures which are less than one year old:  GPT-II and BERT.\n",
       "           </div>,\n",
       " <div class=\"card-body\">\n",
       "             We arrange for one class that has no pre-determined agenda.  This gives us a bit more flexibility in handling student questions and class needs as items come up.  Sometimes this will just be used to give us more time to answer questions or perhaps go into some additional detail on topics not explicitly mentioned in the class syllabus.\n",
       "           </div>,\n",
       " <div class=\"card-body\">\n",
       " <h6 class=\"card-subtitle mb-2 text-muted\">Generating Data Sets</h6>\n",
       " <p class=\"card-text\"><strong>Objective: </strong>Unit 1 gives students hands on practice on the most popular tools used to generate unique datasets:  web scraping and API's.  For students new to programming there's a complimentary track that allows them to focus on programming fundamentals to get through the rest of the class.</p>\n",
       " <hr/>\n",
       " <p class=\"card-text\"><strong>Tools used: </strong>Beautiful Soup, Pandas</p>\n",
       " <hr/>\n",
       " <p class=\"card-text text-center\"><strong>Homework Assignments</strong></p>\n",
       " <ul class=\"list-group list-group-flush\">\n",
       " <li class=\"list-group-item\"><a class=\"card-link\" data-target=\"#TwitterAPIChallenge\" data-toggle=\"modal\" href=\"#\">Twitter API Challenge</a></li>\n",
       " <div aria-hidden=\"true\" aria-labelledby=\"exampleModalLongTitle\" class=\"modal fade\" id=\"TwitterAPIChallenge\" role=\"dialog\" tabindex=\"-1\">\n",
       " <div class=\"modal-dialog\" role=\"document\">\n",
       " <div class=\"modal-content\">\n",
       " <div class=\"modal-header\">\n",
       " <h5 class=\"modal-title\" id=\"exampleModalLongTitle\">Twitter API Challenge</h5>\n",
       " <button aria-label=\"Close\" class=\"close\" data-dismiss=\"modal\" type=\"button\">\n",
       " <span aria-hidden=\"true\">×</span>\n",
       " </button>\n",
       " </div>\n",
       " <div class=\"modal-body\">\n",
       "                       This homework allows students to get experience working with modern, authenticated, fully functional API's.  Students will give themselves practice both improving their programming acumen and writing functions to automate the collection of datasets from API's. Students will be tasked with writing a python script that can be run to generate datasets from Twitter based off of user info, hash tags, and network connections between different users. \n",
       "                     </div>\n",
       " <div class=\"modal-footer\">\n",
       " <button class=\"btn btn-secondary\" data-dismiss=\"modal\" type=\"button\">Close</button>\n",
       " </div>\n",
       " </div>\n",
       " </div>\n",
       " </div>\n",
       " <li class=\"list-group-item\"><a class=\"card-link\" data-target=\"#CodingChallenge\" data-toggle=\"modal\" href=\"#\">Coding Challenge</a></li>\n",
       " <div aria-hidden=\"true\" aria-labelledby=\"exampleModalLongTitle\" class=\"modal fade\" id=\"CodingChallenge\" role=\"dialog\" tabindex=\"-1\">\n",
       " <div class=\"modal-dialog\" role=\"document\">\n",
       " <div class=\"modal-content\">\n",
       " <div class=\"modal-header\">\n",
       " <h5 class=\"modal-title\" id=\"exampleModalLongTitle\">Coding Challenge</h5>\n",
       " <button aria-label=\"Close\" class=\"close\" data-dismiss=\"modal\" type=\"button\">\n",
       " <span aria-hidden=\"true\">×</span>\n",
       " </button>\n",
       " </div>\n",
       " <div class=\"modal-body\">\n",
       "                       In this homework, students are asked to solve 6 different coding challenges that might mimic screening questions you might get at a job interview for your programming proficiency.  The problems asked are well contained, and are a good chance for introductory programmers give themselves practice thinking through problems analytically.\n",
       "                     </div>\n",
       " <div class=\"modal-footer\">\n",
       " <button class=\"btn btn-secondary\" data-dismiss=\"modal\" type=\"button\">Close</button>\n",
       " </div>\n",
       " </div>\n",
       " </div>\n",
       " </div>\n",
       " </ul>\n",
       " </div>,\n",
       " <div class=\"card-body\">\n",
       " <h6 class=\"card-subtitle mb-2 text-muted\">Cleaning And Visualizing Data</h6>\n",
       " <p class=\"card-text\"><strong>Objective: </strong>This module takes an extended deep dive into Pandas, the most commonly used tool for cleaning, analyzing and visualizing data.  It also wraps up with an introduction to dashboarding with plotly.  It's designed to give students hands on practice for wrangling data and visualizing their results with interactive graphs.</p>\n",
       " <hr/>\n",
       " <p class=\"card-text\"><strong>Tools used: </strong>Pandas, Plotly, Seaborn</p>\n",
       " <hr/>\n",
       " <p class=\"card-text text-center\"><strong>Homework Assignments</strong></p>\n",
       " <ul class=\"list-group list-group-flush\">\n",
       " <li class=\"list-group-item\"><a class=\"card-link\" data-target=\"#IMDBMovieDataset\" data-toggle=\"modal\" href=\"#\">IMDB Movie Dataset</a></li>\n",
       " <div aria-hidden=\"true\" aria-labelledby=\"exampleModalLongTitle\" class=\"modal fade\" id=\"IMDBMovieDataset\" role=\"dialog\" tabindex=\"-1\">\n",
       " <div class=\"modal-dialog\" role=\"document\">\n",
       " <div class=\"modal-content\">\n",
       " <div class=\"modal-header\">\n",
       " <h5 class=\"modal-title\" id=\"exampleModalLongTitle\">IMDB Movie Dataset</h5>\n",
       " <button aria-label=\"Close\" class=\"close\" data-dismiss=\"modal\" type=\"button\">\n",
       " <span aria-hidden=\"true\">×</span>\n",
       " </button>\n",
       " </div>\n",
       " <div class=\"modal-body\">\n",
       "                       In this homework, you'll do initial data exploration on the IMDB dataset.....a collection of 25000 movies that were scraped from the IMDB dataset.  In doing so, students will answer questions like what qualities are associated with higher ratings, and segmenting box office outcomes by actors and genre.  Students will get practice cleaning data, filling in missing values, visualization, and grouping and segmenting data.\n",
       "                     </div>\n",
       " <div class=\"modal-footer\">\n",
       " <button class=\"btn btn-secondary\" data-dismiss=\"modal\" type=\"button\">Close</button>\n",
       " </div>\n",
       " </div>\n",
       " </div>\n",
       " </div>\n",
       " <li class=\"list-group-item\"><a class=\"card-link\" data-target=\"#ChipotleDataSetHW\" data-toggle=\"modal\" href=\"#\">Chipotle Data Set HW</a></li>\n",
       " <div aria-hidden=\"true\" aria-labelledby=\"exampleModalLongTitle\" class=\"modal fade\" id=\"ChipotleDataSetHW\" role=\"dialog\" tabindex=\"-1\">\n",
       " <div class=\"modal-dialog\" role=\"document\">\n",
       " <div class=\"modal-content\">\n",
       " <div class=\"modal-header\">\n",
       " <h5 class=\"modal-title\" id=\"exampleModalLongTitle\">Chipotle Data Set HW</h5>\n",
       " <button aria-label=\"Close\" class=\"close\" data-dismiss=\"modal\" type=\"button\">\n",
       " <span aria-hidden=\"true\">×</span>\n",
       " </button>\n",
       " </div>\n",
       " <div class=\"modal-body\">\n",
       "                       This homework is similar to the IMDB dataset, but requires some data cleaning which is a bit more difficult to accomplish.  The problem is to better understand transactional patterns in Chipotle data that were collected for a popular NY Times project which covered the same thing.\n",
       "                     </div>\n",
       " <div class=\"modal-footer\">\n",
       " <button class=\"btn btn-secondary\" data-dismiss=\"modal\" type=\"button\">Close</button>\n",
       " </div>\n",
       " </div>\n",
       " </div>\n",
       " </div>\n",
       " <li class=\"list-group-item\"><a class=\"card-link\" data-target=\"#FileStreamingandLargeDataSets\" data-toggle=\"modal\" href=\"#\">File Streaming and Large Data Sets</a></li>\n",
       " <div aria-hidden=\"true\" aria-labelledby=\"exampleModalLongTitle\" class=\"modal fade\" id=\"FileStreamingandLargeDataSets\" role=\"dialog\" tabindex=\"-1\">\n",
       " <div class=\"modal-dialog\" role=\"document\">\n",
       " <div class=\"modal-content\">\n",
       " <div class=\"modal-header\">\n",
       " <h5 class=\"modal-title\" id=\"exampleModalLongTitle\">File Streaming and Large Data Sets</h5>\n",
       " <button aria-label=\"Close\" class=\"close\" data-dismiss=\"modal\" type=\"button\">\n",
       " <span aria-hidden=\"true\">×</span>\n",
       " </button>\n",
       " </div>\n",
       " <div class=\"modal-body\">\n",
       "                       This homework assignment is reserved for more advanced students who would like to apply pandas to more complicated data cleaning problems.  This homework walks students through common methods used to maximize performance and memory optimization, including how to perform data cleaning operations on a file without ever having it in memory.\n",
       "                     </div>\n",
       " <div class=\"modal-footer\">\n",
       " <button class=\"btn btn-secondary\" data-dismiss=\"modal\" type=\"button\">Close</button>\n",
       " </div>\n",
       " </div>\n",
       " </div>\n",
       " </div>\n",
       " <li class=\"list-group-item\"><a class=\"card-link\" data-target=\"#InteractiveDashboard(Bonus)\" data-toggle=\"modal\" href=\"#\">Interactive Dashboard (Bonus)</a></li>\n",
       " <div aria-hidden=\"true\" aria-labelledby=\"exampleModalLongTitle\" class=\"modal fade\" id=\"InteractiveDashboard(Bonus)\" role=\"dialog\" tabindex=\"-1\">\n",
       " <div class=\"modal-dialog\" role=\"document\">\n",
       " <div class=\"modal-content\">\n",
       " <div class=\"modal-header\">\n",
       " <h5 class=\"modal-title\" id=\"exampleModalLongTitle\">Interactive Dashboard (Bonus)</h5>\n",
       " <button aria-label=\"Close\" class=\"close\" data-dismiss=\"modal\" type=\"button\">\n",
       " <span aria-hidden=\"true\">×</span>\n",
       " </button>\n",
       " </div>\n",
       " <div class=\"modal-body\">\n",
       "                       In this optional add-on, students can take their work from their project and use plotly to build an interactive dashboard to explore it.\n",
       "                     </div>\n",
       " <div class=\"modal-footer\">\n",
       " <button class=\"btn btn-secondary\" data-dismiss=\"modal\" type=\"button\">Close</button>\n",
       " </div>\n",
       " </div>\n",
       " </div>\n",
       " </div>\n",
       " </ul>\n",
       " </div>,\n",
       " <div class=\"card-body\">\n",
       " <h6 class=\"card-subtitle mb-2 text-muted\">Machine Learning Fundamentals</h6>\n",
       " <p class=\"card-text\"><strong>Objective: </strong>Unit 3 covers the fundamental design principles in building high performance machine learning models?  What are the most powerful techniques to use, and how do we get them to perform at their best?  Unit 3 trains students in common problems and techniques practitioners need to use to build reliable data science projects.</p>\n",
       " <hr/>\n",
       " <p class=\"card-text\"><strong>Tools used: </strong>Scikit-Learn, Pandas, xgboost</p>\n",
       " <hr/>\n",
       " <p class=\"card-text text-center\"><strong>Homework Assignments</strong></p>\n",
       " <ul class=\"list-group list-group-flush\">\n",
       " <li class=\"list-group-item\"><a class=\"card-link\" data-target=\"#ModelBuildingChallenge\" data-toggle=\"modal\" href=\"#\">Model Building Challenge</a></li>\n",
       " <div aria-hidden=\"true\" aria-labelledby=\"exampleModalLongTitle\" class=\"modal fade\" id=\"ModelBuildingChallenge\" role=\"dialog\" tabindex=\"-1\">\n",
       " <div class=\"modal-dialog\" role=\"document\">\n",
       " <div class=\"modal-content\">\n",
       " <div class=\"modal-header\">\n",
       " <h5 class=\"modal-title\" id=\"exampleModalLongTitle\">Model Building Challenge</h5>\n",
       " <button aria-label=\"Close\" class=\"close\" data-dismiss=\"modal\" type=\"button\">\n",
       " <span aria-hidden=\"true\">×</span>\n",
       " </button>\n",
       " </div>\n",
       " <div class=\"modal-body\">\n",
       "                       This homework assignment tasks students with taking a dataset, and building a beginning-to-end ML model with it.  Students are going to be asked to take an holistic approach to figuring out how best to build an ML model for the dataset.  The tasks include to be performed include:  visualizing data and performing initial hypotheses, prepping data, model validation and parameter search, and interpreting your results.  \n",
       " \n",
       " Students will be given a choice of 3 different data sets of differing levels of difficulty and scope to complete the project.\n",
       "                     </div>\n",
       " <div class=\"modal-footer\">\n",
       " <button class=\"btn btn-secondary\" data-dismiss=\"modal\" type=\"button\">Close</button>\n",
       " </div>\n",
       " </div>\n",
       " </div>\n",
       " </div>\n",
       " </ul>\n",
       " </div>,\n",
       " <div class=\"card-body\">\n",
       " <h6 class=\"card-subtitle mb-2 text-muted\">Deep Learning &amp; NLP</h6>\n",
       " <p class=\"card-text\"><strong>Objective: </strong>Unit 4 gives students an introduction to using neural networks to derive statistical patterns in unstructured data, such as text and images.  We'll start with basics, and end with state of the art models that use the latest deep learning architectures.</p>\n",
       " <hr/>\n",
       " <p class=\"card-text\"><strong>Tools used: </strong>Tensorflow, Keras</p>\n",
       " <hr/>\n",
       " <p class=\"card-text text-center\"><strong>Homework Assignments</strong></p>\n",
       " <ul class=\"list-group list-group-flush\">\n",
       " <li class=\"list-group-item\"><a class=\"card-link\" data-target=\"#IndependentProject\" data-toggle=\"modal\" href=\"#\">Independent Project</a></li>\n",
       " <div aria-hidden=\"true\" aria-labelledby=\"exampleModalLongTitle\" class=\"modal fade\" id=\"IndependentProject\" role=\"dialog\" tabindex=\"-1\">\n",
       " <div class=\"modal-dialog\" role=\"document\">\n",
       " <div class=\"modal-content\">\n",
       " <div class=\"modal-header\">\n",
       " <h5 class=\"modal-title\" id=\"exampleModalLongTitle\">Independent Project</h5>\n",
       " <button aria-label=\"Close\" class=\"close\" data-dismiss=\"modal\" type=\"button\">\n",
       " <span aria-hidden=\"true\">×</span>\n",
       " </button>\n",
       " </div>\n",
       " <div class=\"modal-body\">\n",
       "                       It's now your turn to build a full-stack ML solution to a domain of your choice.   This project will allow students to define a problem of their choice and go through the entire data science process:  collecting data, organizing and prepping it, building an ML model, and meaningfully interpreting your results.\n",
       "                     </div>\n",
       " <div class=\"modal-footer\">\n",
       " <button class=\"btn btn-secondary\" data-dismiss=\"modal\" type=\"button\">Close</button>\n",
       " </div>\n",
       " </div>\n",
       " </div>\n",
       " </div>\n",
       " </ul>\n",
       " </div>]"
      ]
     },
     "execution_count": 24,
     "metadata": {},
     "output_type": "execute_result"
    }
   ],
   "source": [
    "divclass"
   ]
  },
  {
   "cell_type": "code",
   "execution_count": 45,
   "metadata": {},
   "outputs": [],
   "source": [
    "url2='https://www.yelp.com/search?find_desc=Restaurants&find_loc=London%2C%20United%20Kingdom&ns=1'"
   ]
  },
  {
   "cell_type": "code",
   "execution_count": 46,
   "metadata": {},
   "outputs": [],
   "source": [
    "req2=requests.get(url2)"
   ]
  },
  {
   "cell_type": "code",
   "execution_count": 47,
   "metadata": {},
   "outputs": [],
   "source": [
    "yelp_scraper=BeautifulSoup(req2.text)"
   ]
  },
  {
   "cell_type": "code",
   "execution_count": 48,
   "metadata": {},
   "outputs": [],
   "source": [
    "titles=yelp_scraper('a', {'class': 'lemon--a__373c0__IEZFH', 'class': 'link__373c0__1G70M',\n",
    "                                'class': 'link-color--inherit__373c0__3dzpk',\n",
    "                                'class':  'link-size--inherit__373c0__1VFlE'})"
   ]
  },
  {
   "cell_type": "code",
   "execution_count": 52,
   "metadata": {},
   "outputs": [],
   "source": [
    "revs=yelp_scraper('span',{'class' :\"lemon--span__373c0__3997G text__373c0__2Kxyz reviewCount__373c0__2r4xT text-color--black-extra-light__373c0__2OyzO text-align--left__373c0__2XGa-\"})"
   ]
  },
  {
   "cell_type": "code",
   "execution_count": 49,
   "metadata": {},
   "outputs": [
    {
     "ename": "NameError",
     "evalue": "name 'title' is not defined",
     "output_type": "error",
     "traceback": [
      "\u001b[1;31m---------------------------------------------------------------------------\u001b[0m",
      "\u001b[1;31mNameError\u001b[0m                                 Traceback (most recent call last)",
      "\u001b[1;32m<ipython-input-49-5d191ba221a0>\u001b[0m in \u001b[0;36m<module>\u001b[1;34m\u001b[0m\n\u001b[1;32m----> 1\u001b[1;33m \u001b[0mtitles\u001b[0m\u001b[1;33m=\u001b[0m\u001b[1;33m[\u001b[0m\u001b[0mstr\u001b[0m\u001b[1;33m(\u001b[0m\u001b[0mtitle\u001b[0m\u001b[1;33m)\u001b[0m \u001b[1;32mfor\u001b[0m \u001b[0mtile\u001b[0m \u001b[1;32min\u001b[0m \u001b[0mtitles\u001b[0m\u001b[1;33m]\u001b[0m\u001b[1;33m\u001b[0m\u001b[1;33m\u001b[0m\u001b[0m\n\u001b[0m\u001b[0;32m      2\u001b[0m \u001b[0mtitles\u001b[0m\u001b[1;33m=\u001b[0m \u001b[1;33m[\u001b[0m\u001b[0mtitle\u001b[0m\u001b[1;33m.\u001b[0m\u001b[0mreplace\u001b[0m\u001b[1;33m(\u001b[0m\u001b[1;34m'<a>'\u001b[0m\u001b[1;33m,\u001b[0m \u001b[1;34m\"\"\u001b[0m\u001b[1;33m)\u001b[0m \u001b[1;32mfor\u001b[0m \u001b[0mtitle\u001b[0m \u001b[1;32min\u001b[0m \u001b[0mtitles\u001b[0m\u001b[1;33m]\u001b[0m\u001b[1;33m\u001b[0m\u001b[1;33m\u001b[0m\u001b[0m\n\u001b[0;32m      3\u001b[0m \u001b[0mtitles\u001b[0m\u001b[1;33m=\u001b[0m \u001b[1;33m[\u001b[0m\u001b[0mtile\u001b[0m\u001b[1;33m.\u001b[0m\u001b[0msplit\u001b[0m\u001b[1;33m(\u001b[0m\u001b[1;34m'<'\u001b[0m\u001b[1;33m)\u001b[0m \u001b[1;32mfor\u001b[0m \u001b[0mtitle\u001b[0m \u001b[1;32min\u001b[0m \u001b[0mtitles\u001b[0m\u001b[1;33m]\u001b[0m\u001b[1;33m\u001b[0m\u001b[1;33m\u001b[0m\u001b[0m\n",
      "\u001b[1;32m<ipython-input-49-5d191ba221a0>\u001b[0m in \u001b[0;36m<listcomp>\u001b[1;34m(.0)\u001b[0m\n\u001b[1;32m----> 1\u001b[1;33m \u001b[0mtitles\u001b[0m\u001b[1;33m=\u001b[0m\u001b[1;33m[\u001b[0m\u001b[0mstr\u001b[0m\u001b[1;33m(\u001b[0m\u001b[0mtitle\u001b[0m\u001b[1;33m)\u001b[0m \u001b[1;32mfor\u001b[0m \u001b[0mtile\u001b[0m \u001b[1;32min\u001b[0m \u001b[0mtitles\u001b[0m\u001b[1;33m]\u001b[0m\u001b[1;33m\u001b[0m\u001b[1;33m\u001b[0m\u001b[0m\n\u001b[0m\u001b[0;32m      2\u001b[0m \u001b[0mtitles\u001b[0m\u001b[1;33m=\u001b[0m \u001b[1;33m[\u001b[0m\u001b[0mtitle\u001b[0m\u001b[1;33m.\u001b[0m\u001b[0mreplace\u001b[0m\u001b[1;33m(\u001b[0m\u001b[1;34m'<a>'\u001b[0m\u001b[1;33m,\u001b[0m \u001b[1;34m\"\"\u001b[0m\u001b[1;33m)\u001b[0m \u001b[1;32mfor\u001b[0m \u001b[0mtitle\u001b[0m \u001b[1;32min\u001b[0m \u001b[0mtitles\u001b[0m\u001b[1;33m]\u001b[0m\u001b[1;33m\u001b[0m\u001b[1;33m\u001b[0m\u001b[0m\n\u001b[0;32m      3\u001b[0m \u001b[0mtitles\u001b[0m\u001b[1;33m=\u001b[0m \u001b[1;33m[\u001b[0m\u001b[0mtile\u001b[0m\u001b[1;33m.\u001b[0m\u001b[0msplit\u001b[0m\u001b[1;33m(\u001b[0m\u001b[1;34m'<'\u001b[0m\u001b[1;33m)\u001b[0m \u001b[1;32mfor\u001b[0m \u001b[0mtitle\u001b[0m \u001b[1;32min\u001b[0m \u001b[0mtitles\u001b[0m\u001b[1;33m]\u001b[0m\u001b[1;33m\u001b[0m\u001b[1;33m\u001b[0m\u001b[0m\n",
      "\u001b[1;31mNameError\u001b[0m: name 'title' is not defined"
     ]
    }
   ],
   "source": [
    "titles=[str(title) for tile in titles]\n",
    "titles= [title.replace('<a>', \"\") for title in titles]\n",
    "titles= [tile.split('<') for title in titles]"
   ]
  },
  {
   "cell_type": "code",
   "execution_count": 50,
   "metadata": {},
   "outputs": [],
   "source": [
    "titles=[title for title in titles if title != 'more']"
   ]
  },
  {
   "cell_type": "code",
   "execution_count": 51,
   "metadata": {},
   "outputs": [
    {
     "data": {
      "text/plain": [
       "[<a class=\"lemon--a__373c0__IEZFH link__373c0__1G70M link-color--inherit__373c0__3dzpk link-size--inherit__373c0__1VFlE\" href=\"/biz/the-mayfair-chippy-london-2?osq=Restaurants\" name=\"The Mayfair Chippy\" rel=\"\" target=\"\">The Mayfair Chippy</a>,\n",
       " <a class=\"lemon--a__373c0__IEZFH link__373c0__1G70M link-color--blue-dark__373c0__85-Nu link-size--inherit__373c0__1VFlE\" href=\"/biz/the-mayfair-chippy-london-2?hrid=i3VYneHDGk-jNF94nFhe_w&amp;osq=Restaurants\" name=\"\" rel=\"\" target=\"\">more</a>,\n",
       " <a class=\"lemon--a__373c0__IEZFH link__373c0__1G70M link-color--inherit__373c0__3dzpk link-size--inherit__373c0__1VFlE\" href=\"/biz/dishoom-london?osq=Restaurants\" name=\"Dishoom\" rel=\"\" target=\"\">Dishoom</a>,\n",
       " <a class=\"lemon--a__373c0__IEZFH link__373c0__1G70M link-color--blue-dark__373c0__85-Nu link-size--inherit__373c0__1VFlE\" href=\"/biz/dishoom-london?hrid=zJTd9wGX60KORLU7K3qyiA&amp;osq=Restaurants\" name=\"\" rel=\"\" target=\"\">more</a>,\n",
       " <a class=\"lemon--a__373c0__IEZFH link__373c0__1G70M link-color--inherit__373c0__3dzpk link-size--inherit__373c0__1VFlE\" href=\"/biz/flat-iron-london-2?osq=Restaurants\" name=\"Flat Iron\" rel=\"\" target=\"\">Flat Iron</a>,\n",
       " <a class=\"lemon--a__373c0__IEZFH link__373c0__1G70M link-color--blue-dark__373c0__85-Nu link-size--inherit__373c0__1VFlE\" href=\"/biz/flat-iron-london-2?hrid=i7gMG3l6ArbQTP-6kdjF-Q&amp;osq=Restaurants\" name=\"\" rel=\"\" target=\"\">more</a>,\n",
       " <a class=\"lemon--a__373c0__IEZFH link__373c0__1G70M link-color--inherit__373c0__3dzpk link-size--inherit__373c0__1VFlE\" href=\"/biz/restaurant-gordon-ramsay-london-3?osq=Restaurants\" name=\"Restaurant Gordon Ramsay\" rel=\"\" target=\"\">Restaurant Gordon Ramsay</a>,\n",
       " <a class=\"lemon--a__373c0__IEZFH link__373c0__1G70M link-color--blue-dark__373c0__85-Nu link-size--inherit__373c0__1VFlE\" href=\"/biz/restaurant-gordon-ramsay-london-3?hrid=uyyr9BXyAbTHhKPVhzhARg&amp;osq=Restaurants\" name=\"\" rel=\"\" target=\"\">more</a>,\n",
       " <a class=\"lemon--a__373c0__IEZFH link__373c0__1G70M link-color--inherit__373c0__3dzpk link-size--inherit__373c0__1VFlE\" href=\"/biz/ffionas-restaurant-london?osq=Restaurants\" name=\"Ffiona’s Restaurant\" rel=\"\" target=\"\">Ffiona’s Restaurant</a>,\n",
       " <a class=\"lemon--a__373c0__IEZFH link__373c0__1G70M link-color--blue-dark__373c0__85-Nu link-size--inherit__373c0__1VFlE\" href=\"/biz/ffionas-restaurant-london?hrid=IixyLOwPCR5t9TAoJcPFoQ&amp;osq=Restaurants\" name=\"\" rel=\"\" target=\"\">more</a>,\n",
       " <a class=\"lemon--a__373c0__IEZFH link__373c0__1G70M link-color--inherit__373c0__3dzpk link-size--inherit__373c0__1VFlE\" href=\"/biz/mother-mash-london?osq=Restaurants\" name=\"Mother Mash\" rel=\"\" target=\"\">Mother Mash</a>,\n",
       " <a class=\"lemon--a__373c0__IEZFH link__373c0__1G70M link-color--blue-dark__373c0__85-Nu link-size--inherit__373c0__1VFlE\" href=\"/biz/mother-mash-london?hrid=5wvn4a5l7Uu-b5u6Rqlh1g&amp;osq=Restaurants\" name=\"\" rel=\"\" target=\"\">more</a>,\n",
       " <a class=\"lemon--a__373c0__IEZFH link__373c0__1G70M link-color--inherit__373c0__3dzpk link-size--inherit__373c0__1VFlE\" href=\"/biz/the-queens-arms-london?osq=Restaurants\" name=\"The Queens Arms\" rel=\"\" target=\"\">The Queens Arms</a>,\n",
       " <a class=\"lemon--a__373c0__IEZFH link__373c0__1G70M link-color--blue-dark__373c0__85-Nu link-size--inherit__373c0__1VFlE\" href=\"/biz/the-queens-arms-london?hrid=2iGPqnvZSGv93r_QhMvsBg&amp;osq=Restaurants\" name=\"\" rel=\"\" target=\"\">more</a>,\n",
       " <a class=\"lemon--a__373c0__IEZFH link__373c0__1G70M link-color--inherit__373c0__3dzpk link-size--inherit__373c0__1VFlE\" href=\"/biz/padella-london-3?osq=Restaurants\" name=\"Padella\" rel=\"\" target=\"\">Padella</a>,\n",
       " <a class=\"lemon--a__373c0__IEZFH link__373c0__1G70M link-color--blue-dark__373c0__85-Nu link-size--inherit__373c0__1VFlE\" href=\"/biz/padella-london-3?hrid=KZrAxtoEykUwxU6U-U1_7Q&amp;osq=Restaurants\" name=\"\" rel=\"\" target=\"\">more</a>,\n",
       " <a class=\"lemon--a__373c0__IEZFH link__373c0__1G70M link-color--inherit__373c0__3dzpk link-size--inherit__373c0__1VFlE\" href=\"/biz/the-grazing-goat-london?osq=Restaurants\" name=\"The Grazing Goat\" rel=\"\" target=\"\">The Grazing Goat</a>,\n",
       " <a class=\"lemon--a__373c0__IEZFH link__373c0__1G70M link-color--blue-dark__373c0__85-Nu link-size--inherit__373c0__1VFlE\" href=\"/biz/the-grazing-goat-london?hrid=_ZArZrTcaYcYpe741jnxew&amp;osq=Restaurants\" name=\"\" rel=\"\" target=\"\">more</a>,\n",
       " <a class=\"lemon--a__373c0__IEZFH link__373c0__1G70M link-color--inherit__373c0__3dzpk link-size--inherit__373c0__1VFlE\" href=\"/biz/the-golden-chippy-london?osq=Restaurants\" name=\"The Golden Chippy\" rel=\"\" target=\"\">The Golden Chippy</a>,\n",
       " <a class=\"lemon--a__373c0__IEZFH link__373c0__1G70M link-color--blue-dark__373c0__85-Nu link-size--inherit__373c0__1VFlE\" href=\"/biz/the-golden-chippy-london?hrid=BeJihhAoEBTNgf-GID0kGA&amp;osq=Restaurants\" name=\"\" rel=\"\" target=\"\">more</a>,\n",
       " <a class=\"lemon--a__373c0__IEZFH link__373c0__1G70M link-color--inherit__373c0__3dzpk link-size--inherit__373c0__1VFlE\" href=\"/biz/bao-soho-london?osq=Restaurants\" name=\"BAO - Soho\" rel=\"\" target=\"\">BAO - Soho</a>,\n",
       " <a class=\"lemon--a__373c0__IEZFH link__373c0__1G70M link-color--blue-dark__373c0__85-Nu link-size--inherit__373c0__1VFlE\" href=\"/biz/bao-soho-london?hrid=tvQ28k-YKvOwSOqadtwfpA&amp;osq=Restaurants\" name=\"\" rel=\"\" target=\"\">more</a>,\n",
       " <a class=\"lemon--a__373c0__IEZFH link__373c0__1G70M link-color--inherit__373c0__3dzpk link-size--inherit__373c0__1VFlE\" href=\"/biz/duck-and-waffle-london?osq=Restaurants\" name=\"Duck &amp; Waffle\" rel=\"\" target=\"\">Duck &amp; Waffle</a>,\n",
       " <a class=\"lemon--a__373c0__IEZFH link__373c0__1G70M link-color--blue-dark__373c0__85-Nu link-size--inherit__373c0__1VFlE\" href=\"/biz/duck-and-waffle-london?hrid=GSFuMpsAqcck1AYqppXlfA&amp;osq=Restaurants\" name=\"\" rel=\"\" target=\"\">more</a>,\n",
       " <a class=\"lemon--a__373c0__IEZFH link__373c0__1G70M link-color--inherit__373c0__3dzpk link-size--inherit__373c0__1VFlE\" href=\"/biz/ye-olde-cheshire-cheese-london?osq=Restaurants\" name=\"Ye Olde Cheshire Cheese\" rel=\"\" target=\"\">Ye Olde Cheshire Cheese</a>,\n",
       " <a class=\"lemon--a__373c0__IEZFH link__373c0__1G70M link-color--blue-dark__373c0__85-Nu link-size--inherit__373c0__1VFlE\" href=\"/biz/ye-olde-cheshire-cheese-london?hrid=tF7ERrNyOjJBFPDtg9f2QQ&amp;osq=Restaurants\" name=\"\" rel=\"\" target=\"\">more</a>,\n",
       " <a class=\"lemon--a__373c0__IEZFH link__373c0__1G70M link-color--inherit__373c0__3dzpk link-size--inherit__373c0__1VFlE\" href=\"/biz/dishoom-london-7?osq=Restaurants\" name=\"Dishoom\" rel=\"\" target=\"\">Dishoom</a>,\n",
       " <a class=\"lemon--a__373c0__IEZFH link__373c0__1G70M link-color--blue-dark__373c0__85-Nu link-size--inherit__373c0__1VFlE\" href=\"/biz/dishoom-london-7?hrid=B2fgDuIjS9PUXMbToFPHxA&amp;osq=Restaurants\" name=\"\" rel=\"\" target=\"\">more</a>,\n",
       " <a class=\"lemon--a__373c0__IEZFH link__373c0__1G70M link-color--inherit__373c0__3dzpk link-size--inherit__373c0__1VFlE\" href=\"/biz/the-pig-and-butcher-london?osq=Restaurants\" name=\"The Pig and Butcher\" rel=\"\" target=\"\">The Pig and Butcher</a>,\n",
       " <a class=\"lemon--a__373c0__IEZFH link__373c0__1G70M link-color--blue-dark__373c0__85-Nu link-size--inherit__373c0__1VFlE\" href=\"/biz/the-pig-and-butcher-london?hrid=eEADHoqlz1deOmjqTUV2Fg&amp;osq=Restaurants\" name=\"\" rel=\"\" target=\"\">more</a>,\n",
       " <a class=\"lemon--a__373c0__IEZFH link__373c0__1G70M link-color--inherit__373c0__3dzpk link-size--inherit__373c0__1VFlE\" href=\"/biz/sketch-london-2?osq=Restaurants\" name=\"Sketch\" rel=\"\" target=\"\">Sketch</a>,\n",
       " <a class=\"lemon--a__373c0__IEZFH link__373c0__1G70M link-color--blue-dark__373c0__85-Nu link-size--inherit__373c0__1VFlE\" href=\"/biz/sketch-london-2?hrid=BRFLYWmAUrX7PNQ56e3Opw&amp;osq=Restaurants\" name=\"\" rel=\"\" target=\"\">more</a>,\n",
       " <a class=\"lemon--a__373c0__IEZFH link__373c0__1G70M link-color--inherit__373c0__3dzpk link-size--inherit__373c0__1VFlE\" href=\"/biz/nopi-london?osq=Restaurants\" name=\"NOPI\" rel=\"\" target=\"\">NOPI</a>,\n",
       " <a class=\"lemon--a__373c0__IEZFH link__373c0__1G70M link-color--blue-dark__373c0__85-Nu link-size--inherit__373c0__1VFlE\" href=\"/biz/nopi-london?hrid=AlRxFx-eSIsET4FEX7alsQ&amp;osq=Restaurants\" name=\"\" rel=\"\" target=\"\">more</a>,\n",
       " <a class=\"lemon--a__373c0__IEZFH link__373c0__1G70M link-color--inherit__373c0__3dzpk link-size--inherit__373c0__1VFlE\" href=\"/biz/the-churchill-arms-london?osq=Restaurants\" name=\"The Churchill Arms\" rel=\"\" target=\"\">The Churchill Arms</a>,\n",
       " <a class=\"lemon--a__373c0__IEZFH link__373c0__1G70M link-color--blue-dark__373c0__85-Nu link-size--inherit__373c0__1VFlE\" href=\"/biz/the-churchill-arms-london?hrid=FZrqjJ3tcDzZLtThYuS1iw&amp;osq=Restaurants\" name=\"\" rel=\"\" target=\"\">more</a>,\n",
       " <a class=\"lemon--a__373c0__IEZFH link__373c0__1G70M link-color--inherit__373c0__3dzpk link-size--inherit__373c0__1VFlE\" href=\"/biz/abeno-london?osq=Restaurants\" name=\"Abeno\" rel=\"\" target=\"\">Abeno</a>,\n",
       " <a class=\"lemon--a__373c0__IEZFH link__373c0__1G70M link-color--blue-dark__373c0__85-Nu link-size--inherit__373c0__1VFlE\" href=\"/biz/abeno-london?hrid=HFXfXV1ybJhJcCyx3lgpVg&amp;osq=Restaurants\" name=\"\" rel=\"\" target=\"\">more</a>,\n",
       " <a class=\"lemon--a__373c0__IEZFH link__373c0__1G70M link-color--inherit__373c0__3dzpk link-size--inherit__373c0__1VFlE\" href=\"/biz/the-victoria-paddington?osq=Restaurants\" name=\"The Victoria\" rel=\"\" target=\"\">The Victoria</a>,\n",
       " <a class=\"lemon--a__373c0__IEZFH link__373c0__1G70M link-color--inherit__373c0__3dzpk link-size--inherit__373c0__1VFlE\" href=\"/biz/the-shed-london-3?osq=Restaurants\" name=\"The Shed\" rel=\"\" target=\"\">The Shed</a>,\n",
       " <a class=\"lemon--a__373c0__IEZFH link__373c0__1G70M link-color--blue-dark__373c0__85-Nu link-size--inherit__373c0__1VFlE\" href=\"/biz/the-shed-london-3?hrid=KBsypk-Xvo3BMuRQwQ-PgA&amp;osq=Restaurants\" name=\"\" rel=\"\" target=\"\">more</a>,\n",
       " <a class=\"lemon--a__373c0__IEZFH link__373c0__1G70M link-color--inherit__373c0__3dzpk link-size--inherit__373c0__1VFlE\" href=\"/biz/shoryu-ramen-london?osq=Restaurants\" name=\"Shoryu Ramen\" rel=\"\" target=\"\">Shoryu Ramen</a>,\n",
       " <a class=\"lemon--a__373c0__IEZFH link__373c0__1G70M link-color--blue-dark__373c0__85-Nu link-size--inherit__373c0__1VFlE\" href=\"/biz/shoryu-ramen-london?hrid=af8NrHug-4TOlhgeDHZdog&amp;osq=Restaurants\" name=\"\" rel=\"\" target=\"\">more</a>,\n",
       " <a class=\"lemon--a__373c0__IEZFH link__373c0__1G70M link-color--inherit__373c0__3dzpk link-size--inherit__373c0__1VFlE\" href=\"/biz/busaba-soho-soho?osq=Restaurants\" name=\"Busaba Soho\" rel=\"\" target=\"\">Busaba Soho</a>,\n",
       " <a class=\"lemon--a__373c0__IEZFH link__373c0__1G70M link-color--blue-dark__373c0__85-Nu link-size--inherit__373c0__1VFlE\" href=\"/biz/busaba-soho-soho?hrid=2gnhtcIplwk5Qaio_tsaeQ&amp;osq=Restaurants\" name=\"\" rel=\"\" target=\"\">more</a>,\n",
       " <a class=\"lemon--a__373c0__IEZFH link__373c0__1G70M link-color--inherit__373c0__3dzpk link-size--inherit__373c0__1VFlE\" href=\"/biz/the-colonel-fawcett-london?osq=Restaurants\" name=\"The Colonel Fawcett\" rel=\"\" target=\"\">The Colonel Fawcett</a>,\n",
       " <a class=\"lemon--a__373c0__IEZFH link__373c0__1G70M link-color--blue-dark__373c0__85-Nu link-size--inherit__373c0__1VFlE\" href=\"/biz/the-colonel-fawcett-london?hrid=wIvXcatcfyuXhUsO377oBg&amp;osq=Restaurants\" name=\"\" rel=\"\" target=\"\">more</a>,\n",
       " <a class=\"lemon--a__373c0__IEZFH link__373c0__1G70M link-color--inherit__373c0__3dzpk link-size--inherit__373c0__1VFlE\" href=\"/biz/gordon-ramsay-street-pizza-london?osq=Restaurants\" name=\"Gordon Ramsay Street Pizza\" rel=\"\" target=\"\">Gordon Ramsay Street Pizza</a>,\n",
       " <a class=\"lemon--a__373c0__IEZFH link__373c0__1G70M link-color--blue-dark__373c0__85-Nu link-size--inherit__373c0__1VFlE\" href=\"/biz/gordon-ramsay-street-pizza-london?hrid=sE4jeexxZMYbsB70IC0UZg&amp;osq=Restaurants\" name=\"\" rel=\"\" target=\"\">more</a>,\n",
       " <a class=\"lemon--a__373c0__IEZFH link__373c0__1G70M link-color--inherit__373c0__3dzpk link-size--inherit__373c0__1VFlE\" href=\"/biz/burger-and-lobster-london-2?osq=Restaurants\" name=\"Burger &amp; Lobster\" rel=\"\" target=\"\">Burger &amp; Lobster</a>,\n",
       " <a class=\"lemon--a__373c0__IEZFH link__373c0__1G70M link-color--blue-dark__373c0__85-Nu link-size--inherit__373c0__1VFlE\" href=\"/biz/burger-and-lobster-london-2?hrid=Kv-2x_Fw8PKulUFyQOR6qw&amp;osq=Restaurants\" name=\"\" rel=\"\" target=\"\">more</a>,\n",
       " <a class=\"lemon--a__373c0__IEZFH link__373c0__1G70M link-color--inherit__373c0__3dzpk link-size--inherit__373c0__1VFlE\" href=\"/biz/hawksmoor-seven-dials-london-4?osq=Restaurants\" name=\"Hawksmoor Seven Dials\" rel=\"\" target=\"\">Hawksmoor Seven Dials</a>,\n",
       " <a class=\"lemon--a__373c0__IEZFH link__373c0__1G70M link-color--blue-dark__373c0__85-Nu link-size--inherit__373c0__1VFlE\" href=\"/biz/hawksmoor-seven-dials-london-4?hrid=dN1IfCB1_bW-mQqV9VxP0A&amp;osq=Restaurants\" name=\"\" rel=\"\" target=\"\">more</a>,\n",
       " <a class=\"lemon--a__373c0__IEZFH link__373c0__1G70M link-color--inherit__373c0__3dzpk link-size--inherit__373c0__1VFlE\" href=\"/biz/savoir-faire-london?osq=Restaurants\" name=\"Savoir Faire\" rel=\"\" target=\"\">Savoir Faire</a>,\n",
       " <a class=\"lemon--a__373c0__IEZFH link__373c0__1G70M link-color--blue-dark__373c0__85-Nu link-size--inherit__373c0__1VFlE\" href=\"/biz/savoir-faire-london?hrid=7ThzmPytTlk5M2RPBSBTBg&amp;osq=Restaurants\" name=\"\" rel=\"\" target=\"\">more</a>,\n",
       " <a class=\"lemon--a__373c0__IEZFH link__373c0__1G70M link-color--inherit__373c0__3dzpk link-size--inherit__373c0__1VFlE\" href=\"/biz/yauatcha-london-8?osq=Restaurants\" name=\"Yauatcha\" rel=\"\" target=\"\">Yauatcha</a>,\n",
       " <a class=\"lemon--a__373c0__IEZFH link__373c0__1G70M link-color--blue-dark__373c0__85-Nu link-size--inherit__373c0__1VFlE\" href=\"/biz/yauatcha-london-8?hrid=HEcN6U--k1OnVD8LZHJ89Q&amp;osq=Restaurants\" name=\"\" rel=\"\" target=\"\">more</a>,\n",
       " <a class=\"lemon--a__373c0__IEZFH link__373c0__1G70M link-color--inherit__373c0__3dzpk link-size--inherit__373c0__1VFlE\" href=\"/biz/london-house-by-gordon-ramsay-london-2?osq=Restaurants\" name=\"London House by Gordon Ramsay\" rel=\"\" target=\"\">London House by Gordon Ramsay</a>,\n",
       " <a class=\"lemon--a__373c0__IEZFH link__373c0__1G70M link-color--blue-dark__373c0__85-Nu link-size--inherit__373c0__1VFlE\" href=\"/biz/london-house-by-gordon-ramsay-london-2?hrid=cL7PK2w0ap05t_-lnXPSfg&amp;osq=Restaurants\" name=\"\" rel=\"\" target=\"\">more</a>]"
      ]
     },
     "execution_count": 51,
     "metadata": {},
     "output_type": "execute_result"
    }
   ],
   "source": [
    "titles[:-8]"
   ]
  },
  {
   "cell_type": "code",
   "execution_count": null,
   "metadata": {},
   "outputs": [],
   "source": []
  },
  {
   "cell_type": "code",
   "execution_count": 55,
   "metadata": {},
   "outputs": [],
   "source": [
    "revstxt=[str(rev) for rev in revs]"
   ]
  },
  {
   "cell_type": "code",
   "execution_count": 61,
   "metadata": {},
   "outputs": [
    {
     "data": {
      "text/plain": [
       "'277</span'"
      ]
     },
     "execution_count": 61,
     "metadata": {},
     "output_type": "execute_result"
    }
   ],
   "source": [
    "revstxt[0][-2]"
   ]
  },
  {
   "cell_type": "code",
   "execution_count": 58,
   "metadata": {},
   "outputs": [],
   "source": [
    "revstxt=[rev.split('>') for rev in revstxt]"
   ]
  },
  {
   "cell_type": "code",
   "execution_count": 62,
   "metadata": {},
   "outputs": [],
   "source": [
    "revstxt2=[rev[-2] for rev in revstxt]"
   ]
  },
  {
   "cell_type": "code",
   "execution_count": 64,
   "metadata": {},
   "outputs": [],
   "source": [
    "revstxt2=[rev.replace('</span',\"\") for rev in revstxt2]"
   ]
  },
  {
   "cell_type": "code",
   "execution_count": 65,
   "metadata": {},
   "outputs": [
    {
     "data": {
      "text/plain": [
       "['277',\n",
       " '1842',\n",
       " '378',\n",
       " '204',\n",
       " '270',\n",
       " '468',\n",
       " '119',\n",
       " '202',\n",
       " '239',\n",
       " '108',\n",
       " '183',\n",
       " '701',\n",
       " '353',\n",
       " '544',\n",
       " '109',\n",
       " '830',\n",
       " '271',\n",
       " '358',\n",
       " '101',\n",
       " '212',\n",
       " '78',\n",
       " '375',\n",
       " '381',\n",
       " '26',\n",
       " '30',\n",
       " '292',\n",
       " '342',\n",
       " '194',\n",
       " '482',\n",
       " '22']"
      ]
     },
     "execution_count": 65,
     "metadata": {},
     "output_type": "execute_result"
    }
   ],
   "source": [
    "revstxt2"
   ]
  },
  {
   "cell_type": "code",
   "execution_count": 66,
   "metadata": {},
   "outputs": [
    {
     "data": {
      "text/plain": [
       "30"
      ]
     },
     "execution_count": 66,
     "metadata": {},
     "output_type": "execute_result"
    }
   ],
   "source": [
    "len(revstxt2)"
   ]
  },
  {
   "cell_type": "code",
   "execution_count": null,
   "metadata": {},
   "outputs": [],
   "source": []
  }
 ],
 "metadata": {
  "kernelspec": {
   "display_name": "Python 3",
   "language": "python",
   "name": "python3"
  },
  "language_info": {
   "codemirror_mode": {
    "name": "ipython",
    "version": 3
   },
   "file_extension": ".py",
   "mimetype": "text/x-python",
   "name": "python",
   "nbconvert_exporter": "python",
   "pygments_lexer": "ipython3",
   "version": "3.7.6"
  }
 },
 "nbformat": 4,
 "nbformat_minor": 4
}
