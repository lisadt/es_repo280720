{
 "cells": [
  {
   "cell_type": "markdown",
   "metadata": {},
   "source": [
    "<img src=\"http://imgur.com/1ZcRyrc.png\" style=\"float: left; margin: 20px; height: 55px\">\n",
    "\n",
    "# Project 1: Python Coding Exercises\n",
    "\n",
    "_Authors: Joseph Nelson (DC) _\n",
    "\n",
    "---"
   ]
  },
  {
   "cell_type": "markdown",
   "metadata": {},
   "source": [
    "The following code challenges are drawn from common exercises used in technical interviews.\n",
    "\n",
    "Please note that there may be several ways to approach each challenge. If you get stuck, try mapping out your approach in pseudocode first. Finally, while solutions to problems like these may be found online, remember that if you copy/paste code that you can't explain, you'll be missing out on the point of the project. The only way to truly learn a new skill is through practice, trial, and error - we can only help you improve by understanding where you are having trouble.\n",
    "\n",
    "**Note:** To receive the highest credit, make sure your answers are wrapped up in functions that we can call!"
   ]
  },
  {
   "cell_type": "markdown",
   "metadata": {},
   "source": [
    "### Challenge 1: Largest Palindrome\n",
    "A palindromic number reads the same both ways. For example, 1234321 is a palindrome. The largest palindrome made from the product of two two-digit numbers is 9009 = 91 × 99. Find the largest palindrome made from the product of two three-digit numbers. Afterward, write a brief explanation walking through your code's logic in markdown."
   ]
  },
  {
   "cell_type": "code",
   "execution_count": 27,
   "metadata": {},
   "outputs": [],
   "source": [
    "def maxpal(a):\n",
    "    int_max= int('9'*a)\n",
    "    int_min =int(10**(a-1))\n",
    "    maxpalind=0\n",
    "    palindr=[]\n",
    "    for n in range(int_max,int_min,-1): #loop starts from max value as we are searching for the largest palindrome (will get a shorter list)\n",
    "        for m in range(n,int_min,-1): #loop starts from n as we dont need repeated values \n",
    "            num=n*m\n",
    "            if str(num)==str(num)[::-1]: #checks if number is palindrome\n",
    "                if num > maxpalind:\n",
    "                    palindr.append((num, n,m)) #add the palindrome and factors\n",
    "                    maxpalind=num\n",
    "    return max(palindr) \n",
    "   \n",
    "\n",
    "                "
   ]
  },
  {
   "cell_type": "code",
   "execution_count": 28,
   "metadata": {},
   "outputs": [
    {
     "data": {
      "text/plain": [
       "(906609, 993, 913)"
      ]
     },
     "execution_count": 28,
     "metadata": {},
     "output_type": "execute_result"
    }
   ],
   "source": [
    "maxpal(3)"
   ]
  },
  {
   "cell_type": "markdown",
   "metadata": {},
   "source": [
    "The function maxpal takes one argument, the number of digits of the numbers in the product.  It works by first creating the numerical interval considered (i.e. 100 and 999 for a 3-digit) and two nested loops to generate the products. The products  that pass the test for palindrome numbers and are greater of all previously calculated palindromes (two \"if\" statements) are added to a list. The function return the largest number in the list."
   ]
  },
  {
   "cell_type": "markdown",
   "metadata": {},
   "source": [
    "\n",
    "### Challenge 2: Summation of Primes\n",
    "The sum of the primes below 10 is 2 + 3 + 5 + 7 = 17. Find the sum of all the primes below 2,000. Afterward, write a brief explanation walking through your code's logic in markdown."
   ]
  },
  {
   "cell_type": "code",
   "execution_count": 29,
   "metadata": {},
   "outputs": [],
   "source": [
    "def primesum(min_int,max_int):\n",
    "    primenum=[]\n",
    "    for n in range (min_int,max_int):\n",
    "        if n >1: #1 not a prime\n",
    "            for m in range(2,n):\n",
    "                if (n % m) ==0:\n",
    "                    break\n",
    "            else:\n",
    "                primenum.append(n)\n",
    "    return sum(primenum)"
   ]
  },
  {
   "cell_type": "code",
   "execution_count": 30,
   "metadata": {},
   "outputs": [
    {
     "data": {
      "text/plain": [
       "277033"
      ]
     },
     "execution_count": 30,
     "metadata": {},
     "output_type": "execute_result"
    }
   ],
   "source": [
    "primesum(10,2000)"
   ]
  },
  {
   "cell_type": "markdown",
   "metadata": {},
   "source": [
    "The function primesum has two arguments (numbers) which represent the interval to be investigated. A first loop generates\n",
    "a number (n) in the interval and a second for loop takes a number (m) between 2 and n and evaluates the remainder of the division. If n is divisible by any of the 'm' numbers (remainder=0) then it's not a prime, the second loop breaks and the first loop moves to the next n. If n passes the prime test, it is added to a list. The function return the sum of the prime numbers in the list. "
   ]
  },
  {
   "cell_type": "markdown",
   "metadata": {},
   "source": [
    "### Challenge 3: Multiples of 3 and 5\n",
    "If we list all of the natural numbers below 10 that are multiples of 3 or 5, we get 3, 5, 6, and 9. The sum of these multiples is 23. Find the sum of all the multiples of 3 and 5 below 1,000. Afterward, write a brief explanation walking through your code's logic in markdown."
   ]
  },
  {
   "cell_type": "code",
   "execution_count": 31,
   "metadata": {},
   "outputs": [],
   "source": [
    "def sum_mult(min_int,max_int):\n",
    "    sum_n=0\n",
    "    for n in range(min_int,max_int):\n",
    "        if n%3==0 or n%5==0: #checks that number is divisible by 3 or by 5\n",
    "            sum_n +=n\n",
    "    return sum_n\n",
    "        "
   ]
  },
  {
   "cell_type": "code",
   "execution_count": 32,
   "metadata": {},
   "outputs": [
    {
     "data": {
      "text/plain": [
       "233168"
      ]
     },
     "execution_count": 32,
     "metadata": {},
     "output_type": "execute_result"
    }
   ],
   "source": [
    "sum_mult(1,1000)"
   ]
  },
  {
   "cell_type": "markdown",
   "metadata": {},
   "source": [
    "The function sum_mult takes two numbers that define the numerical interval. A for loop generates numbers in the interval and the if statement checks whether they are divisible by 3 or 5. If so, the numbers are added to the sum.\n"
   ]
  },
  {
   "cell_type": "markdown",
   "metadata": {},
   "source": [
    "### Challenge 4: String Compressor\n",
    "Implement a method to perform basic string compression using the counts of repeated characters. (This is called run-length encoding.) For example, the string \"aabcccccaaa\" would become a2b1c5a3. If the “compressed” string would not become smaller than the original string, your method should return the original string. You can assume the string has only uppercase and lowercase letters (a–z). Specify whether your solution is case sensitive or case insensitive and what you would need to change to make it the other. Afterward, write a brief explanation walking through your code's logic in markdown."
   ]
  },
  {
   "cell_type": "code",
   "execution_count": 33,
   "metadata": {},
   "outputs": [],
   "source": [
    "def strcomp(string):\n",
    "    count=1\n",
    "    stringcomp=''\n",
    "    m=len(string)\n",
    "    for i in range(1,m):\n",
    "        if string[i]!=string[i-1]:\n",
    "            stringcomp += str(string[i-1]) + str(count)\n",
    "            count=1\n",
    "        else:\n",
    "            count +=1\n",
    "        if i == m-1:\n",
    "            stringcomp += str(string[i]) + str(count)\n",
    "#    print(stringcomp, string)\n",
    "    \n",
    "    if len(stringcomp)< len(string): #checks if the length of the compressed string is less than the original string\n",
    "        return stringcomp\n",
    "    else:\n",
    "        return string\n",
    "\n"
   ]
  },
  {
   "cell_type": "code",
   "execution_count": 40,
   "metadata": {},
   "outputs": [
    {
     "data": {
      "text/plain": [
       "'a2b1c5a3'"
      ]
     },
     "execution_count": 40,
     "metadata": {},
     "output_type": "execute_result"
    }
   ],
   "source": [
    "strcomp('aabcccccaaa')"
   ]
  },
  {
   "cell_type": "markdown",
   "metadata": {},
   "source": [
    "The function strcomp take a string as argument. A for loop cycles throught the letters in the string and the first if statement inside the loop checks whether a character differs from the preceding one. In this case the variable count is equal to one, since the character is not repeated, and a string consisting of the character and the count variable is produced. If the characters are equal, 1 is added to count and no string is generated, the loop proceeds to next letter until this differs from the preeceding.The character and the summed counts is then added to the string. The length of the resulting string is then compared to the length of the input string and, if smaller, is returned, otherwise the otiginal string is returned.\n",
    "As the stringcom variable is built with the string[i-1] characters, the last if statement in the loop adds the last letter+count to the string. \n",
    "The function is case sensitive. \n",
    "I could use the lower() function to return a lowercased string and run the function."
   ]
  },
  {
   "cell_type": "code",
   "execution_count": 35,
   "metadata": {},
   "outputs": [],
   "source": [
    "def strcompNCS(string):\n",
    "    string_l=string.lower()\n",
    "    count=1\n",
    "    stringcomp=''\n",
    "    m=len(string)\n",
    "    for i in range(1,m):\n",
    "        if string_l[i]!=string_l[i-1]:\n",
    "            stringcomp += str(string_l[i-1]) + str(count)\n",
    "            count=1  \n",
    "        else:\n",
    "            count +=1\n",
    "        if i == m-1:\n",
    "            stringcomp += str(string_l[i]) + str(count)\n",
    "\n",
    " #   print(stringcomp)\n",
    "    if len(stringcomp)< len(string_l): #checks if the length of the compressed string is less than the original string\n",
    "        return stringcomp\n",
    "    else:\n",
    "        return string\n",
    "        "
   ]
  },
  {
   "cell_type": "code",
   "execution_count": 36,
   "metadata": {},
   "outputs": [
    {
     "data": {
      "text/plain": [
       "'taBCcTaa'"
      ]
     },
     "execution_count": 36,
     "metadata": {},
     "output_type": "execute_result"
    }
   ],
   "source": [
    "strcompNCS('taBCcTaa')"
   ]
  },
  {
   "cell_type": "markdown",
   "metadata": {},
   "source": [
    " *BONUS* Challenge: FizzBuzz\n",
    "Write a program that prints all of the numbers from 1 to 100. For multiples of 3, instead of the number, print \"Fizz;\" for multiples of 5, print \"Buzz.\" For numbers that are multiples of both 3 and 5, print \"FizzBuzz.\" Afterward, write a brief explanation walking through your code's logic in markdown."
   ]
  },
  {
   "cell_type": "code",
   "execution_count": 38,
   "metadata": {},
   "outputs": [],
   "source": [
    "def fizzbuzz(min_int,max_int):\n",
    "    for n in range(min_int,max_int+1):\n",
    "        if n%15==0:                  #checks if number divisible by 3 and 5\n",
    "            print('FizzBuzz')\n",
    "        elif n%3 ==0:\n",
    "            print('Fizz')\n",
    "        elif n%5 ==0:\n",
    "            print('Buzz')\n",
    "        else:\n",
    "            print(n)"
   ]
  },
  {
   "cell_type": "code",
   "execution_count": 39,
   "metadata": {},
   "outputs": [
    {
     "name": "stdout",
     "output_type": "stream",
     "text": [
      "1\n",
      "2\n",
      "Fizz\n",
      "4\n",
      "Buzz\n",
      "Fizz\n",
      "7\n",
      "8\n",
      "Fizz\n",
      "Buzz\n",
      "11\n",
      "Fizz\n",
      "13\n",
      "14\n",
      "FizzBuzz\n"
     ]
    }
   ],
   "source": [
    "fizzbuzz(1,15)"
   ]
  },
  {
   "cell_type": "markdown",
   "metadata": {},
   "source": [
    "The function fizzbuzz takes two numbers as arguments to define the interval to be investigated. For loop goes through the interval and a series of if statements check if the number is divisible by 3 and 5, by 3, by 5 using the modulo operator % , and if so, it prints the word Fizz, Buzz, and FizzBuzz instead of the number. The other numbers are printed as well."
   ]
  },
  {
   "cell_type": "code",
   "execution_count": null,
   "metadata": {},
   "outputs": [],
   "source": []
  }
 ],
 "metadata": {
  "anaconda-cloud": {},
  "kernelspec": {
   "display_name": "Python 3",
   "language": "python",
   "name": "python3"
  },
  "language_info": {
   "codemirror_mode": {
    "name": "ipython",
    "version": 3
   },
   "file_extension": ".py",
   "mimetype": "text/x-python",
   "name": "python",
   "nbconvert_exporter": "python",
   "pygments_lexer": "ipython3",
   "version": "3.7.6"
  }
 },
 "nbformat": 4,
 "nbformat_minor": 2
}
