{
 "cells": [
  {
   "cell_type": "code",
   "execution_count": 1,
   "metadata": {},
   "outputs": [
    {
     "data": {
      "text/plain": [
       "<Response [200]>"
      ]
     },
     "execution_count": 1,
     "metadata": {},
     "output_type": "execute_result"
    }
   ],
   "source": [
    "#Import requests and set up tokens for OAuth1 authentication. Check it's working(should return 'Respose [200]')\n",
    "import requests\n",
    "from requests_oauthlib import OAuth1\n",
    "\n",
    "token1='DeWbsfI9l3XhzARsLTo1kHYFL'\n",
    "token2='m6JkY76aQv7zgJaApxz9IitfgfnlKCRo1cIkaqK3zqbQanDKk4'\n",
    "token3='1291070701408002050-ft6VvAOaqSvW77CEr5kWN6NzyHavPy'\n",
    "token4='hXS9DBpTuFXnXwODPfgoPnjNSXcRKmWVqFG72uPXjthlu'\n",
    "auth = OAuth1(token1, token2, token3, token4)\n",
    "\n",
    "url ='https://api.twitter.com/1.1/account/verify_credentials.json'\n",
    "requests.get(url,auth=auth)\n",
    "\n"
   ]
  },
  {
   "cell_type": "markdown",
   "metadata": {},
   "source": [
    "FUNCTION 1 - FIND USER"
   ]
  },
  {
   "cell_type": "code",
   "execution_count": 3,
   "metadata": {},
   "outputs": [],
   "source": [
    "#Function queries Twitter data and returns dictionary with user objects.\n",
    "def find_user(user, keys=None):\n",
    "    user=user.strip('@')    #If input user begins with '@', the character will be removed\n",
    "    url =f'https://api.twitter.com/1.1/users/show.json?screen_name={user}' # variable user passed into the url using 'f'\n",
    "    userdata=requests.get(url,auth=auth).json() #Returns the request in json format\n",
    "    \n",
    "    if keys != None:       #keys are optional. If used a dictionary is generated with only the specified keys\n",
    "        userdata_keys = {}\n",
    "        for key in keys:\n",
    "            userdata_keys[key] = userdata[key] #build the dictionary 'userdate_keys' with keys and values from the userdata\n",
    "        return userdata_keys\n",
    "    else:                                     #No keys specified so the whole dictionary is returned\n",
    "        return userdata\n"
   ]
  },
  {
   "cell_type": "markdown",
   "metadata": {},
   "source": [
    "FUNCTION 2 - FIND HASHTAG"
   ]
  },
  {
   "cell_type": "code",
   "execution_count": 13,
   "metadata": {},
   "outputs": [],
   "source": [
    "#Function returns a list of data objects with information about the input tweet. Count and search type are optional.\n",
    "def find_hashtag(hashtag, count=None, search_type=None):\n",
    "   \n",
    "    if not hashtag.startswith('#'):   #checks if the tweet name doesnt begin with '#' and adds %23 in front (the '#' in the url is encoded to '%23')\n",
    "        hashtag='%23'+hashtag         \n",
    "    else:\n",
    "        hashtag='%23' + hashtag.strip('#') #if the tweet name begins with '#', this is replaced by %23.\n",
    "\n",
    "    if search_type != None:     #search type is specified\n",
    "        searchtype=search_type.replace('/', ',') #if more than one type is used, replaces '/' with ',' \n",
    "        url =f'https://api.twitter.com/1.1/search/tweets.json?q={hashtag}&count={count}&result_type={searchtype}' #variables from input argument and keys passed into the url \n",
    "        hashtag_search=requests.get(url,auth=auth).json()\n",
    "    else:\n",
    "        url =f'https://api.twitter.com/1.1/search/tweets.json?q={hashtag}&count={count}'\n",
    "    return requests.get(url,auth=auth).json()"
   ]
  },
  {
   "cell_type": "markdown",
   "metadata": {},
   "source": [
    "FUNCTION 3 - Get Followers"
   ]
  },
  {
   "cell_type": "code",
   "execution_count": 89,
   "metadata": {},
   "outputs": [],
   "source": [
    "#Function returns a list of data objects for each of the users followers. Keys are required. Can be turned into a table if to_df set to True\n",
    "def get_followers(screen_name, keys=['name', 'followers_count', 'friends_count', 'screen_name'], to_df=False):\n",
    "   \n",
    "    screen_name=screen_name.strip('@') #removes the intial '@' if entered\n",
    "    url =f'https://api.twitter.com/1.1/followers/list.json?screen_name={screen_name}' #passes the user variable into the url path\n",
    "    results=requests.get(url,auth=auth).json()['users'] #outputs the request into json format\n",
    "      \n",
    "    dict_users={}   # create a dictionary using the keys\n",
    "    for i in keys:\n",
    "        dict_users[i] = [user[i] for user in results]\n",
    "    \n",
    "\n",
    "    if to_df:    # if to_df is set to True the dictionary is turned into a table using pandas DataFrame function\n",
    "        import pandas as pd\n",
    "        usersdf = pd.DataFrame(dict_users)\n",
    "        return usersdf\n",
    "    \n",
    "    return results"
   ]
  },
  {
   "cell_type": "markdown",
   "metadata": {},
   "source": [
    "FUNCTION 4 - FRIENDS OF FRIENDS"
   ]
  },
  {
   "cell_type": "code",
   "execution_count": 132,
   "metadata": {},
   "outputs": [],
   "source": [
    "#Function searches friends of two Twitter users and returns list of data objects for the friends in common\n",
    "def friends_of_friends(names, keys=None, to_df=False):\n",
    "\n",
    "    for item in names:  #loop through the names in the input list and create a list with the request outputs\n",
    "        url =f'https://api.twitter.com/1.1/friends/list.json?screen_name={item}&count=200'\n",
    "        list_users.append(requests.get(url,auth=auth).json()['users'])\n",
    "        \n",
    "#split the list into two lists, one for each user\n",
    "    results1=list_users[0]\n",
    "    results2=list_users[1]\n",
    "\n",
    "#check the items in the two lists that have the same 'id' and append to a new list\n",
    "    listfriends=[]\n",
    "    listfriends=[item for item in results1 if item['id'] in [n['id'] for n in results2]]\n",
    "    print(len(listfriends))\n",
    "\n",
    "#create dictionary using keys if passed in the function arguments or all the keys available if not used as input\n",
    "    results_dict={}\n",
    "    if keys !=None:\n",
    "        for i in keys:\n",
    "            results_dict[i] = [user[i] for user in listfriends]\n",
    "    else:\n",
    "        for k,v in [(key,d[key]) for d in listfriends for key in d]:\n",
    "            if k not in results_dict: \n",
    "                results_dict[k]=[v]\n",
    "            else: \n",
    "                results_dict[k].append(v)\n",
    "#build a table (pandas data frame from the dictionary) if to_df is True\n",
    "    if to_df:\n",
    "        import pandas as pd\n",
    "        friendsdf = pd.DataFrame(results_dict)\n",
    "        return friendsdf\n",
    "    else:\n",
    "        return results1"
   ]
  },
  {
   "cell_type": "code",
   "execution_count": null,
   "metadata": {},
   "outputs": [],
   "source": []
  }
 ],
 "metadata": {
  "kernelspec": {
   "display_name": "Python 3",
   "language": "python",
   "name": "python3"
  },
  "language_info": {
   "codemirror_mode": {
    "name": "ipython",
    "version": 3
   },
   "file_extension": ".py",
   "mimetype": "text/x-python",
   "name": "python",
   "nbconvert_exporter": "python",
   "pygments_lexer": "ipython3",
   "version": "3.7.6"
  }
 },
 "nbformat": 4,
 "nbformat_minor": 4
}
