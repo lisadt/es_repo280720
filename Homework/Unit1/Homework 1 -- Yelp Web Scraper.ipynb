{
 "cells": [
  {
   "cell_type": "markdown",
   "metadata": {},
   "source": [
    "### Unit 1 Homework:  Scraping the Yelp Website\n",
    "\n",
    "Welcome!  For this homework assignment you'll be tasked with building a web scraper in a manner that builds on what was covered in our web scraping class.\n",
    "\n",
    "The assignment will extend the lab work done during that time, where we built a dataset that listed the name, number of reviews and price range for restaurant on the following web page: https://www.yelp.com/search?find_desc=Restaurants&find_loc=London%2C%20United%20Kingdom&ns=1\n",
    "\n",
    "Your most basic task is to build a dataset from the above website that has the following characteristics:\n",
    "\n",
    " - Has at least 5 columns (they can overlap with what we created in class)\n",
    " - Has at least 100 rows (this means you will have to scrape more than 1 page)\n",
    " \n",
    "Your final product will be a jupyter notebook that has the following characteristics:\n",
    "\n",
    " - It results in the creation of a pandas dataframe\n",
    " - You should write comments in every cell explaining what you are doing and your line of thinking\n",
    " \n",
    "**Bonus:**\n",
    "\n",
    " - If you'd like you can cycle through different pages manually, but see if you can do so programmatically -- ie, using loops (**hint: ** `while` loops can help here, as well as `try/except` blocks to catch errors)\n",
    " - Some values are not consistent across every entry so you might have to provide checks to see if a value exists at all"
   ]
  },
  {
   "cell_type": "code",
   "execution_count": null,
   "metadata": {},
   "outputs": [],
   "source": [
    "# your code here"
   ]
  }
 ],
 "metadata": {
  "kernelspec": {
   "display_name": "Python 3",
   "language": "python",
   "name": "python3"
  },
  "language_info": {
   "codemirror_mode": {
    "name": "ipython",
    "version": 3
   },
   "file_extension": ".py",
   "mimetype": "text/x-python",
   "name": "python",
   "nbconvert_exporter": "python",
   "pygments_lexer": "ipython3",
   "version": "3.7.6"
  }
 },
 "nbformat": 4,
 "nbformat_minor": 4
}
