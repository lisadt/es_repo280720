{
 "cells": [
  {
   "cell_type": "code",
   "execution_count": 96,
   "metadata": {},
   "outputs": [],
   "source": [
    "import requests\n",
    "import pandas as pd\n",
    "from bs4 import BeautifulSoup"
   ]
  },
  {
   "cell_type": "code",
   "execution_count": 120,
   "metadata": {},
   "outputs": [
    {
     "name": "stdout",
     "output_type": "stream",
     "text": [
      "30\n",
      "60\n",
      "90\n",
      "120\n"
     ]
    }
   ],
   "source": [
    "varstart=0\n",
    "list_scrapers=[]\n",
    "while varstart < 100:\n",
    "    req = requests.get('https://www.yelp.com/search?find_desc=Restaurants&find_loc=London%2C+United+Kingdom&ns=1&start={varstart}')\n",
    "    scraper = BeautifulSoup(req.text)\n",
    "    list_scrapers.append(scraper)\n",
    "    varstart=varstart+30\n",
    "    print(varstart)\n",
    "    "
   ]
  },
  {
   "cell_type": "code",
   "execution_count": 124,
   "metadata": {},
   "outputs": [
    {
     "name": "stdout",
     "output_type": "stream",
     "text": [
      "0\n",
      "0\n",
      "0\n",
      "0\n"
     ]
    }
   ],
   "source": [
    "list_names=[]\n",
    "lista=[]\n",
    "for scraper in list_scrapers:\n",
    "    names=list_scrapers[1].find_all('a', {'class': 'lemon--a__373c0__IEZFH',\n",
    "                              'class' : 'link__373c0__1G70M',\n",
    "                              'class' : 'link-color--inherit__373c0__3dzpk'\n",
    "                              })\n",
    "    print(len(names))\n",
    "    list_names.append(names)\n"
   ]
  },
  {
   "cell_type": "code",
   "execution_count": 116,
   "metadata": {},
   "outputs": [],
   "source": [
    "all_names=[]\n",
    "for names in list_names:\n",
    "    names=[ str(name) for name in names]\n",
    "   # names=[name.replace('</a>',\"\") for name in names]\n",
    "    #names=[name.split('>')[1] for name in names]\n",
    "    #names=[name for name in names if name !='more' and '<div' not in name and '<span' not in name]\n",
    "    all_names.append(names)\n",
    "    \n",
    "    \n"
   ]
  },
  {
   "cell_type": "code",
   "execution_count": 122,
   "metadata": {},
   "outputs": [
    {
     "data": {
      "text/plain": [
       "[[<a class=\"lemon--a__373c0__IEZFH link__373c0__1G70M logo-link__373c0__12B4U link-color--blue-dark__373c0__85-Nu link-size--default__373c0__7tls6\" href=\"/\" name=\"\" rel=\"\" role=\"link\" target=\"\">Yelp</a>,\n",
       "  <a class=\"lemon--a__373c0__IEZFH link__373c0__1G70M link-color--blue-dark__373c0__85-Nu link-size--default__373c0__7tls6\" href=\"/support/contact/report_bug\" name=\"\" rel=\"\" target=\"\">Please tell us.</a>],\n",
       " [<a class=\"lemon--a__373c0__IEZFH link__373c0__1G70M logo-link__373c0__12B4U link-color--blue-dark__373c0__85-Nu link-size--default__373c0__7tls6\" href=\"/\" name=\"\" rel=\"\" role=\"link\" target=\"\">Yelp</a>,\n",
       "  <a class=\"lemon--a__373c0__IEZFH link__373c0__1G70M link-color--blue-dark__373c0__85-Nu link-size--default__373c0__7tls6\" href=\"/support/contact/report_bug\" name=\"\" rel=\"\" target=\"\">Please tell us.</a>],\n",
       " [<a class=\"lemon--a__373c0__IEZFH link__373c0__1G70M logo-link__373c0__12B4U link-color--blue-dark__373c0__85-Nu link-size--default__373c0__7tls6\" href=\"/\" name=\"\" rel=\"\" role=\"link\" target=\"\">Yelp</a>,\n",
       "  <a class=\"lemon--a__373c0__IEZFH link__373c0__1G70M link-color--blue-dark__373c0__85-Nu link-size--default__373c0__7tls6\" href=\"/support/contact/report_bug\" name=\"\" rel=\"\" target=\"\">Please tell us.</a>],\n",
       " [<a class=\"lemon--a__373c0__IEZFH link__373c0__1G70M logo-link__373c0__12B4U link-color--blue-dark__373c0__85-Nu link-size--default__373c0__7tls6\" href=\"/\" name=\"\" rel=\"\" role=\"link\" target=\"\">Yelp</a>,\n",
       "  <a class=\"lemon--a__373c0__IEZFH link__373c0__1G70M link-color--blue-dark__373c0__85-Nu link-size--default__373c0__7tls6\" href=\"/support/contact/report_bug\" name=\"\" rel=\"\" target=\"\">Please tell us.</a>]]"
      ]
     },
     "execution_count": 122,
     "metadata": {},
     "output_type": "execute_result"
    }
   ],
   "source": [
    "list_names"
   ]
  },
  {
   "cell_type": "code",
   "execution_count": 200,
   "metadata": {},
   "outputs": [],
   "source": [
    "names=[ str(name) for name in names]\n",
    "names=[name.replace('</a>',\"\") for name in names]"
   ]
  },
  {
   "cell_type": "code",
   "execution_count": 201,
   "metadata": {},
   "outputs": [
    {
     "data": {
      "text/plain": [
       "'<a class=\"lemon--a__373c0__IEZFH link__373c0__1G70M link-color--inherit__373c0__3dzpk link-size--inherit__373c0__1VFlE\" href=\"/biz/mother-mash-london?osq=Restaurants\" name=\"Mother Mash\" rel=\"\" target=\"\">Mother Mash'"
      ]
     },
     "execution_count": 201,
     "metadata": {},
     "output_type": "execute_result"
    }
   ],
   "source": [
    "names[4]"
   ]
  },
  {
   "cell_type": "code",
   "execution_count": 202,
   "metadata": {},
   "outputs": [],
   "source": [
    "names=[name.split('>')[1] for name in names]"
   ]
  },
  {
   "cell_type": "code",
   "execution_count": 203,
   "metadata": {},
   "outputs": [],
   "source": [
    "names=[name for name in names if name !='more' and '<div' not in name and '<span' not in name]"
   ]
  },
  {
   "cell_type": "code",
   "execution_count": 205,
   "metadata": {},
   "outputs": [
    {
     "data": {
      "text/plain": [
       "30"
      ]
     },
     "execution_count": 205,
     "metadata": {},
     "output_type": "execute_result"
    }
   ],
   "source": [
    "len(names)"
   ]
  },
  {
   "cell_type": "code",
   "execution_count": 38,
   "metadata": {},
   "outputs": [],
   "source": [
    "reviews=scraper0.find_all('span', {'class' : 'lemon--span__373c0__3997G',\n",
    "                                  'class' : 'text__373c0__2Kxyz',\n",
    "                                  'class' : 'reviewCount__373c0__2r4xT',\n",
    "                                  'class' : 'text-color--black-extra-light__373c0__2OyzO'})\n",
    "\n",
    "#<span class=\"lemon--span__373c0__3997G text__373c0__2Kxyz reviewCount__373c0__2r4xT text-color--black-extra-light__373c0__2OyzO text-align--left__373c0__2XGa-\">1843</span>\n",
    "#"
   ]
  },
  {
   "cell_type": "code",
   "execution_count": 39,
   "metadata": {},
   "outputs": [
    {
     "data": {
      "text/plain": [
       "[]"
      ]
     },
     "execution_count": 39,
     "metadata": {},
     "output_type": "execute_result"
    }
   ],
   "source": [
    "reviews"
   ]
  },
  {
   "cell_type": "code",
   "execution_count": 35,
   "metadata": {},
   "outputs": [],
   "source": [
    "reviews=[str(item) for item in reviews]"
   ]
  },
  {
   "cell_type": "code",
   "execution_count": 153,
   "metadata": {},
   "outputs": [
    {
     "data": {
      "text/plain": [
       "list"
      ]
     },
     "execution_count": 153,
     "metadata": {},
     "output_type": "execute_result"
    }
   ],
   "source": [
    "type(reviews)"
   ]
  },
  {
   "cell_type": "code",
   "execution_count": 37,
   "metadata": {},
   "outputs": [],
   "source": [
    "reviews=[item.replace('</span>', \"\") for item in reviews]\n",
    "reviews=[item.split('>')[1] for item in reviews]"
   ]
  },
  {
   "cell_type": "code",
   "execution_count": 38,
   "metadata": {},
   "outputs": [
    {
     "data": {
      "text/plain": [
       "['1843',\n",
       " '££',\n",
       " '<a class=\"lemon--a__373c0__IEZFH link__373c0__1G70M link-color--inherit__373c0__3dzpk link-size--default__373c0__7tls6\" href=\"/search?cflt=indpak&amp;find_desc=Restaurants&amp;find_loc=London%2C+United+Kingdom\" name=\"\" rel=\"\" role=\"link\" target=\"\"',\n",
       " '270',\n",
       " '££',\n",
       " '<a class=\"lemon--a__373c0__IEZFH link__373c0__1G70M link-color--inherit__373c0__3dzpk link-size--default__373c0__7tls6\" href=\"/search?cflt=british&amp;find_desc=Restaurants&amp;find_loc=London%2C+United+Kingdom\" name=\"\" rel=\"\" role=\"link\" target=\"\"',\n",
       " '204',\n",
       " '££££',\n",
       " '<a class=\"lemon--a__373c0__IEZFH link__373c0__1G70M link-color--inherit__373c0__3dzpk link-size--default__373c0__7tls6\" href=\"/search?cflt=french&amp;find_desc=Restaurants&amp;find_loc=London%2C+United+Kingdom\" name=\"\" rel=\"\" role=\"link\" target=\"\"',\n",
       " '<a class=\"lemon--a__373c0__IEZFH link__373c0__1G70M link-color--inherit__373c0__3dzpk link-size--default__373c0__7tls6\" href=\"/search?cflt=british&amp;find_desc=Restaurants&amp;find_loc=London%2C+United+Kingdom\" name=\"\" rel=\"\" role=\"link\" target=\"\"',\n",
       " '495',\n",
       " '££',\n",
       " '<a class=\"lemon--a__373c0__IEZFH link__373c0__1G70M link-color--inherit__373c0__3dzpk link-size--default__373c0__7tls6\" href=\"/search?cflt=coffee&amp;find_desc=Restaurants&amp;find_loc=London%2C+United+Kingdom\" name=\"\" rel=\"\" role=\"link\" target=\"\"',\n",
       " '<a class=\"lemon--a__373c0__IEZFH link__373c0__1G70M link-color--inherit__373c0__3dzpk link-size--default__373c0__7tls6\" href=\"/search?cflt=breakfast_brunch&amp;find_desc=Restaurants&amp;find_loc=London%2C+United+Kingdom\" name=\"\" rel=\"\" role=\"link\" target=\"\"',\n",
       " '<a class=\"lemon--a__373c0__IEZFH link__373c0__1G70M link-color--inherit__373c0__3dzpk link-size--default__373c0__7tls6\" href=\"/search?cflt=tradamerican&amp;find_desc=Restaurants&amp;find_loc=London%2C+United+Kingdom\" name=\"\" rel=\"\" role=\"link\" target=\"\"',\n",
       " '468',\n",
       " '££',\n",
       " '<a class=\"lemon--a__373c0__IEZFH link__373c0__1G70M link-color--inherit__373c0__3dzpk link-size--default__373c0__7tls6\" href=\"/search?cflt=british&amp;find_desc=Restaurants&amp;find_loc=London%2C+United+Kingdom\" name=\"\" rel=\"\" role=\"link\" target=\"\"',\n",
       " '701',\n",
       " '£££',\n",
       " '<a class=\"lemon--a__373c0__IEZFH link__373c0__1G70M link-color--inherit__373c0__3dzpk link-size--default__373c0__7tls6\" href=\"/search?cflt=modern_european&amp;find_desc=Restaurants&amp;find_loc=London%2C+United+Kingdom\" name=\"\" rel=\"\" role=\"link\" target=\"\"',\n",
       " '<a class=\"lemon--a__373c0__IEZFH link__373c0__1G70M link-color--inherit__373c0__3dzpk link-size--default__373c0__7tls6\" href=\"/search?cflt=bars&amp;find_desc=Restaurants&amp;find_loc=London%2C+United+Kingdom\" name=\"\" rel=\"\" role=\"link\" target=\"\"',\n",
       " '<a class=\"lemon--a__373c0__IEZFH link__373c0__1G70M link-color--inherit__373c0__3dzpk link-size--default__373c0__7tls6\" href=\"/search?cflt=british&amp;find_desc=Restaurants&amp;find_loc=London%2C+United+Kingdom\" name=\"\" rel=\"\" role=\"link\" target=\"\"',\n",
       " '276',\n",
       " '££',\n",
       " '<a class=\"lemon--a__373c0__IEZFH link__373c0__1G70M link-color--inherit__373c0__3dzpk link-size--default__373c0__7tls6\" href=\"/search?cflt=fishnchips&amp;find_desc=Restaurants&amp;find_loc=London%2C+United+Kingdom\" name=\"\" rel=\"\" role=\"link\" target=\"\"',\n",
       " '239',\n",
       " '££',\n",
       " '<a class=\"lemon--a__373c0__IEZFH link__373c0__1G70M link-color--inherit__373c0__3dzpk link-size--default__373c0__7tls6\" href=\"/search?cflt=gastropubs&amp;find_desc=Restaurants&amp;find_loc=London%2C+United+Kingdom\" name=\"\" rel=\"\" role=\"link\" target=\"\"',\n",
       " '<a class=\"lemon--a__373c0__IEZFH link__373c0__1G70M link-color--inherit__373c0__3dzpk link-size--default__373c0__7tls6\" href=\"/search?cflt=british&amp;find_desc=Restaurants&amp;find_loc=London%2C+United+Kingdom\" name=\"\" rel=\"\" role=\"link\" target=\"\"',\n",
       " '110',\n",
       " '££',\n",
       " '<a class=\"lemon--a__373c0__IEZFH link__373c0__1G70M link-color--inherit__373c0__3dzpk link-size--default__373c0__7tls6\" href=\"/search?cflt=mideastern&amp;find_desc=Restaurants&amp;find_loc=London%2C+United+Kingdom\" name=\"\" rel=\"\" role=\"link\" target=\"\"',\n",
       " '551',\n",
       " '£££',\n",
       " '<a class=\"lemon--a__373c0__IEZFH link__373c0__1G70M link-color--inherit__373c0__3dzpk link-size--default__373c0__7tls6\" href=\"/search?cflt=cafes&amp;find_desc=Restaurants&amp;find_loc=London%2C+United+Kingdom\" name=\"\" rel=\"\" role=\"link\" target=\"\"',\n",
       " '<a class=\"lemon--a__373c0__IEZFH link__373c0__1G70M link-color--inherit__373c0__3dzpk link-size--default__373c0__7tls6\" href=\"/search?cflt=british&amp;find_desc=Restaurants&amp;find_loc=London%2C+United+Kingdom\" name=\"\" rel=\"\" role=\"link\" target=\"\"',\n",
       " '<a class=\"lemon--a__373c0__IEZFH link__373c0__1G70M link-color--inherit__373c0__3dzpk link-size--default__373c0__7tls6\" href=\"/search?cflt=tea&amp;find_desc=Restaurants&amp;find_loc=London%2C+United+Kingdom\" name=\"\" rel=\"\" role=\"link\" target=\"\"',\n",
       " '183',\n",
       " '££',\n",
       " '<a class=\"lemon--a__373c0__IEZFH link__373c0__1G70M link-color--inherit__373c0__3dzpk link-size--default__373c0__7tls6\" href=\"/search?cflt=british&amp;find_desc=Restaurants&amp;find_loc=London%2C+United+Kingdom\" name=\"\" rel=\"\" role=\"link\" target=\"\"',\n",
       " '<a class=\"lemon--a__373c0__IEZFH link__373c0__1G70M link-color--inherit__373c0__3dzpk link-size--default__373c0__7tls6\" href=\"/search?cflt=modern_european&amp;find_desc=Restaurants&amp;find_loc=London%2C+United+Kingdom\" name=\"\" rel=\"\" role=\"link\" target=\"\"',\n",
       " '<a class=\"lemon--a__373c0__IEZFH link__373c0__1G70M link-color--inherit__373c0__3dzpk link-size--default__373c0__7tls6\" href=\"/search?cflt=breakfast_brunch&amp;find_desc=Restaurants&amp;find_loc=London%2C+United+Kingdom\" name=\"\" rel=\"\" role=\"link\" target=\"\"',\n",
       " '142',\n",
       " '££',\n",
       " '<a class=\"lemon--a__373c0__IEZFH link__373c0__1G70M link-color--inherit__373c0__3dzpk link-size--default__373c0__7tls6\" href=\"/search?cflt=bars&amp;find_desc=Restaurants&amp;find_loc=London%2C+United+Kingdom\" name=\"\" rel=\"\" role=\"link\" target=\"\"',\n",
       " '<a class=\"lemon--a__373c0__IEZFH link__373c0__1G70M link-color--inherit__373c0__3dzpk link-size--default__373c0__7tls6\" href=\"/search?cflt=waffles&amp;find_desc=Restaurants&amp;find_loc=London%2C+United+Kingdom\" name=\"\" rel=\"\" role=\"link\" target=\"\"',\n",
       " '183',\n",
       " '££',\n",
       " '<a class=\"lemon--a__373c0__IEZFH link__373c0__1G70M link-color--inherit__373c0__3dzpk link-size--default__373c0__7tls6\" href=\"/search?cflt=taiwanese&amp;find_desc=Restaurants&amp;find_loc=London%2C+United+Kingdom\" name=\"\" rel=\"\" role=\"link\" target=\"\"',\n",
       " '75',\n",
       " '££',\n",
       " '<a class=\"lemon--a__373c0__IEZFH link__373c0__1G70M link-color--inherit__373c0__3dzpk link-size--default__373c0__7tls6\" href=\"/search?cflt=pancakes&amp;find_desc=Restaurants&amp;find_loc=London%2C+United+Kingdom\" name=\"\" rel=\"\" role=\"link\" target=\"\"',\n",
       " '394',\n",
       " '£',\n",
       " '<a class=\"lemon--a__373c0__IEZFH link__373c0__1G70M link-color--inherit__373c0__3dzpk link-size--default__373c0__7tls6\" href=\"/search?cflt=cafes&amp;find_desc=Restaurants&amp;find_loc=London%2C+United+Kingdom\" name=\"\" rel=\"\" role=\"link\" target=\"\"',\n",
       " '377',\n",
       " '££',\n",
       " '<a class=\"lemon--a__373c0__IEZFH link__373c0__1G70M link-color--inherit__373c0__3dzpk link-size--default__373c0__7tls6\" href=\"/search?cflt=steak&amp;find_desc=Restaurants&amp;find_loc=London%2C+United+Kingdom\" name=\"\" rel=\"\" role=\"link\" target=\"\"',\n",
       " '830',\n",
       " '£££',\n",
       " '<a class=\"lemon--a__373c0__IEZFH link__373c0__1G70M link-color--inherit__373c0__3dzpk link-size--default__373c0__7tls6\" href=\"/search?cflt=french&amp;find_desc=Restaurants&amp;find_loc=London%2C+United+Kingdom\" name=\"\" rel=\"\" role=\"link\" target=\"\"',\n",
       " '<a class=\"lemon--a__373c0__IEZFH link__373c0__1G70M link-color--inherit__373c0__3dzpk link-size--default__373c0__7tls6\" href=\"/search?cflt=modern_european&amp;find_desc=Restaurants&amp;find_loc=London%2C+United+Kingdom\" name=\"\" rel=\"\" role=\"link\" target=\"\"',\n",
       " '<a class=\"lemon--a__373c0__IEZFH link__373c0__1G70M link-color--inherit__373c0__3dzpk link-size--default__373c0__7tls6\" href=\"/search?cflt=cocktailbars&amp;find_desc=Restaurants&amp;find_loc=London%2C+United+Kingdom\" name=\"\" rel=\"\" role=\"link\" target=\"\"',\n",
       " '271',\n",
       " '£££',\n",
       " '<a class=\"lemon--a__373c0__IEZFH link__373c0__1G70M link-color--inherit__373c0__3dzpk link-size--default__373c0__7tls6\" href=\"/search?cflt=mediterranean&amp;find_desc=Restaurants&amp;find_loc=London%2C+United+Kingdom\" name=\"\" rel=\"\" role=\"link\" target=\"\"',\n",
       " '3',\n",
       " '<a class=\"lemon--a__373c0__IEZFH link__373c0__1G70M link-color--inherit__373c0__3dzpk link-size--default__373c0__7tls6\" href=\"/search?cflt=bakeries&amp;find_desc=Restaurants&amp;find_loc=London%2C+United+Kingdom\" name=\"\" rel=\"\" role=\"link\" target=\"\"',\n",
       " '<a class=\"lemon--a__373c0__IEZFH link__373c0__1G70M link-color--inherit__373c0__3dzpk link-size--default__373c0__7tls6\" href=\"/search?cflt=bistros&amp;find_desc=Restaurants&amp;find_loc=London%2C+United+Kingdom\" name=\"\" rel=\"\" role=\"link\" target=\"\"',\n",
       " '266',\n",
       " '££',\n",
       " '<a class=\"lemon--a__373c0__IEZFH link__373c0__1G70M link-color--inherit__373c0__3dzpk link-size--default__373c0__7tls6\" href=\"/search?cflt=british&amp;find_desc=Restaurants&amp;find_loc=London%2C+United+Kingdom\" name=\"\" rel=\"\" role=\"link\" target=\"\"',\n",
       " '<a class=\"lemon--a__373c0__IEZFH link__373c0__1G70M link-color--inherit__373c0__3dzpk link-size--default__373c0__7tls6\" href=\"/search?cflt=breakfast_brunch&amp;find_desc=Restaurants&amp;find_loc=London%2C+United+Kingdom\" name=\"\" rel=\"\" role=\"link\" target=\"\"',\n",
       " '<a class=\"lemon--a__373c0__IEZFH link__373c0__1G70M link-color--inherit__373c0__3dzpk link-size--default__373c0__7tls6\" href=\"/search?cflt=bars&amp;find_desc=Restaurants&amp;find_loc=London%2C+United+Kingdom\" name=\"\" rel=\"\" role=\"link\" target=\"\"',\n",
       " '48',\n",
       " '££',\n",
       " '<a class=\"lemon--a__373c0__IEZFH link__373c0__1G70M link-color--inherit__373c0__3dzpk link-size--default__373c0__7tls6\" href=\"/search?cflt=coffee&amp;find_desc=Restaurants&amp;find_loc=London%2C+United+Kingdom\" name=\"\" rel=\"\" role=\"link\" target=\"\"',\n",
       " '<a class=\"lemon--a__373c0__IEZFH link__373c0__1G70M link-color--inherit__373c0__3dzpk link-size--default__373c0__7tls6\" href=\"/search?cflt=breakfast_brunch&amp;find_desc=Restaurants&amp;find_loc=London%2C+United+Kingdom\" name=\"\" rel=\"\" role=\"link\" target=\"\"',\n",
       " '4',\n",
       " '<a class=\"lemon--a__373c0__IEZFH link__373c0__1G70M link-color--inherit__373c0__3dzpk link-size--default__373c0__7tls6\" href=\"/search?cflt=mediterranean&amp;find_desc=Restaurants&amp;find_loc=London%2C+United+Kingdom\" name=\"\" rel=\"\" role=\"link\" target=\"\"',\n",
       " '<a class=\"lemon--a__373c0__IEZFH link__373c0__1G70M link-color--inherit__373c0__3dzpk link-size--default__373c0__7tls6\" href=\"/search?cflt=british&amp;find_desc=Restaurants&amp;find_loc=London%2C+United+Kingdom\" name=\"\" rel=\"\" role=\"link\" target=\"\"',\n",
       " '27',\n",
       " '<a class=\"lemon--a__373c0__IEZFH link__373c0__1G70M link-color--inherit__373c0__3dzpk link-size--default__373c0__7tls6\" href=\"/search?cflt=breakfast_brunch&amp;find_desc=Restaurants&amp;find_loc=London%2C+United+Kingdom\" name=\"\" rel=\"\" role=\"link\" target=\"\"',\n",
       " '<a class=\"lemon--a__373c0__IEZFH link__373c0__1G70M link-color--inherit__373c0__3dzpk link-size--default__373c0__7tls6\" href=\"/search?cflt=pizza&amp;find_desc=Restaurants&amp;find_loc=London%2C+United+Kingdom\" name=\"\" rel=\"\" role=\"link\" target=\"\"',\n",
       " '108',\n",
       " '££',\n",
       " '<a class=\"lemon--a__373c0__IEZFH link__373c0__1G70M link-color--inherit__373c0__3dzpk link-size--default__373c0__7tls6\" href=\"/search?cflt=fishnchips&amp;find_desc=Restaurants&amp;find_loc=London%2C+United+Kingdom\" name=\"\" rel=\"\" role=\"link\" target=\"\"',\n",
       " '35',\n",
       " '£',\n",
       " '<a class=\"lemon--a__373c0__IEZFH link__373c0__1G70M link-color--inherit__373c0__3dzpk link-size--default__373c0__7tls6\" href=\"/search?cflt=british&amp;find_desc=Restaurants&amp;find_loc=London%2C+United+Kingdom\" name=\"\" rel=\"\" role=\"link\" target=\"\"',\n",
       " '353',\n",
       " '££',\n",
       " '<a class=\"lemon--a__373c0__IEZFH link__373c0__1G70M link-color--inherit__373c0__3dzpk link-size--default__373c0__7tls6\" href=\"/search?cflt=pubs&amp;find_desc=Restaurants&amp;find_loc=London%2C+United+Kingdom\" name=\"\" rel=\"\" role=\"link\" target=\"\"',\n",
       " '<a class=\"lemon--a__373c0__IEZFH link__373c0__1G70M link-color--inherit__373c0__3dzpk link-size--default__373c0__7tls6\" href=\"/search?cflt=british&amp;find_desc=Restaurants&amp;find_loc=London%2C+United+Kingdom\" name=\"\" rel=\"\" role=\"link\" target=\"\"',\n",
       " '119',\n",
       " '££',\n",
       " '<a class=\"lemon--a__373c0__IEZFH link__373c0__1G70M link-color--inherit__373c0__3dzpk link-size--default__373c0__7tls6\" href=\"/search?cflt=british&amp;find_desc=Restaurants&amp;find_loc=London%2C+United+Kingdom\" name=\"\" rel=\"\" role=\"link\" target=\"\"',\n",
       " '<a class=\"lemon--a__373c0__IEZFH link__373c0__1G70M link-color--inherit__373c0__3dzpk link-size--default__373c0__7tls6\" href=\"/search?cflt=pubs&amp;find_desc=Restaurants&amp;find_loc=London%2C+United+Kingdom\" name=\"\" rel=\"\" role=\"link\" target=\"\"',\n",
       " '<a class=\"lemon--a__373c0__IEZFH link__373c0__1G70M link-color--inherit__373c0__3dzpk link-size--default__373c0__7tls6\" href=\"/search?cflt=gastropubs&amp;find_desc=Restaurants&amp;find_loc=London%2C+United+Kingdom\" name=\"\" rel=\"\" role=\"link\" target=\"\"',\n",
       " '202',\n",
       " '££',\n",
       " '<a class=\"lemon--a__373c0__IEZFH link__373c0__1G70M link-color--inherit__373c0__3dzpk link-size--default__373c0__7tls6\" href=\"/search?cflt=italian&amp;find_desc=Restaurants&amp;find_loc=London%2C+United+Kingdom\" name=\"\" rel=\"\" role=\"link\" target=\"\"',\n",
       " '11',\n",
       " '<a class=\"lemon--a__373c0__IEZFH link__373c0__1G70M link-color--inherit__373c0__3dzpk link-size--default__373c0__7tls6\" href=\"/search?cflt=italian&amp;find_desc=Restaurants&amp;find_loc=London%2C+United+Kingdom\" name=\"\" rel=\"\" role=\"link\" target=\"\"',\n",
       " '115',\n",
       " '££',\n",
       " '<a class=\"lemon--a__373c0__IEZFH link__373c0__1G70M link-color--inherit__373c0__3dzpk link-size--default__373c0__7tls6\" href=\"/search?cflt=pubs&amp;find_desc=Restaurants&amp;find_loc=London%2C+United+Kingdom\" name=\"\" rel=\"\" role=\"link\" target=\"\"',\n",
       " '<a class=\"lemon--a__373c0__IEZFH link__373c0__1G70M link-color--inherit__373c0__3dzpk link-size--default__373c0__7tls6\" href=\"/search?cflt=british&amp;find_desc=Restaurants&amp;find_loc=London%2C+United+Kingdom\" name=\"\" rel=\"\" role=\"link\" target=\"\"',\n",
       " '<span aria-hidden=\"true\" class=\"lemon--span__373c0__3997G icon__373c0__ehCWV icon--24-chevron-left-v2 icon--gray-light__373c0__2W-uT icon--v2__373c0__1yp8c navigation-button-icon__373c0__1WyUh navigation-button-icon--disabled__373c0__QPZke\" style=\"width:24px;height:24px\"',\n",
       " '<a class=\"lemon--a__373c0__IEZFH link__373c0__1G70M pagination-link-component__373c0__9aHoC link-color--inherit__373c0__3dzpk link-size--inherit__373c0__1VFlE\" href=\"/search?find_desc=Restaurants&amp;find_loc=London%2C%20United%20Kingdom&amp;start=30\" name=\"\" rel=\"\" role=\"link\" target=\"\"',\n",
       " '<a class=\"lemon--a__373c0__IEZFH link__373c0__1G70M pagination-link-component__373c0__9aHoC link-color--inherit__373c0__3dzpk link-size--inherit__373c0__1VFlE\" href=\"/search?find_desc=Restaurants&amp;find_loc=London%2C%20United%20Kingdom&amp;start=60\" name=\"\" rel=\"\" role=\"link\" target=\"\"',\n",
       " '<a class=\"lemon--a__373c0__IEZFH link__373c0__1G70M pagination-link-component__373c0__9aHoC link-color--inherit__373c0__3dzpk link-size--inherit__373c0__1VFlE\" href=\"/search?find_desc=Restaurants&amp;find_loc=London%2C%20United%20Kingdom&amp;start=90\" name=\"\" rel=\"\" role=\"link\" target=\"\"',\n",
       " '<a class=\"lemon--a__373c0__IEZFH link__373c0__1G70M pagination-link-component__373c0__9aHoC link-color--inherit__373c0__3dzpk link-size--inherit__373c0__1VFlE\" href=\"/search?find_desc=Restaurants&amp;find_loc=London%2C%20United%20Kingdom&amp;start=120\" name=\"\" rel=\"\" role=\"link\" target=\"\"',\n",
       " '<a class=\"lemon--a__373c0__IEZFH link__373c0__1G70M pagination-link-component__373c0__9aHoC link-color--inherit__373c0__3dzpk link-size--inherit__373c0__1VFlE\" href=\"/search?find_desc=Restaurants&amp;find_loc=London%2C%20United%20Kingdom&amp;start=150\" name=\"\" rel=\"\" role=\"link\" target=\"\"',\n",
       " '<a class=\"lemon--a__373c0__IEZFH link__373c0__1G70M pagination-link-component__373c0__9aHoC link-color--inherit__373c0__3dzpk link-size--inherit__373c0__1VFlE\" href=\"/search?find_desc=Restaurants&amp;find_loc=London%2C%20United%20Kingdom&amp;start=180\" name=\"\" rel=\"\" role=\"link\" target=\"\"',\n",
       " '<a class=\"lemon--a__373c0__IEZFH link__373c0__1G70M pagination-link-component__373c0__9aHoC link-color--inherit__373c0__3dzpk link-size--inherit__373c0__1VFlE\" href=\"/search?find_desc=Restaurants&amp;find_loc=London%2C%20United%20Kingdom&amp;start=210\" name=\"\" rel=\"\" role=\"link\" target=\"\"',\n",
       " '<a class=\"lemon--a__373c0__IEZFH link__373c0__1G70M next-link navigation-button__373c0__23BAT link-color--inherit__373c0__3dzpk link-size--inherit__373c0__1VFlE\" href=\"/search?find_desc=Restaurants&amp;find_loc=London%2C%20United%20Kingdom&amp;start=30\" name=\"\" rel=\"\" role=\"link\" target=\"\"',\n",
       " '1 of 8',\n",
       " '<a aria-expanded=\"false\" aria-haspopup=\"listbox\" class=\"lemon--a__373c0__IEZFH link__373c0__1G70M link-color--inherit__373c0__3dzpk link-size--default__373c0__7tls6\" href=\"\" name=\"\" rel=\"\" role=\"button\" target=\"\"',\n",
       " '<a aria-expanded=\"false\" aria-haspopup=\"listbox\" class=\"lemon--a__373c0__IEZFH link__373c0__1G70M link-color--inherit__373c0__3dzpk link-size--default__373c0__7tls6\" href=\"\" name=\"\" rel=\"\" role=\"button\" target=\"\"']"
      ]
     },
     "execution_count": 38,
     "metadata": {},
     "output_type": "execute_result"
    }
   ],
   "source": [
    "reviews"
   ]
  },
  {
   "cell_type": "code",
   "execution_count": 39,
   "metadata": {},
   "outputs": [],
   "source": [
    "reviews=[item for item in reviews if '<a' not in item and '<span' not in item]"
   ]
  },
  {
   "cell_type": "code",
   "execution_count": 40,
   "metadata": {},
   "outputs": [],
   "source": [
    "maxnum=len(reviews)\n",
    "n=0\n",
    "list_revs=[]\n",
    "list_price=[]\n",
    "while n < maxnum:\n",
    "    if reviews[n].isdigit() and '£' in reviews[n+1]:\n",
    "        list_revs.append(reviews[n])\n",
    "        list_price.append(reviews[n+1])\n",
    "        n=n+2\n",
    "            \n",
    "    elif reviews[n].isdigit() and reviews[n+1].isdigit():\n",
    "        list_price.append('Missing')\n",
    "        list_revs.append(reviews[n])\n",
    "        n=n+1\n",
    "    elif '£' in reviews[n] and '£' in reviews[n+1]:\n",
    "        list_price.append(reviews[n])\n",
    "        list_revs.append('Missing')\n",
    "        n=n+1\n",
    "           \n",
    "    else:\n",
    "        n+=1\n",
    "        continue\n",
    "    "
   ]
  },
  {
   "cell_type": "code",
   "execution_count": 41,
   "metadata": {},
   "outputs": [
    {
     "data": {
      "text/plain": [
       "30"
      ]
     },
     "execution_count": 41,
     "metadata": {},
     "output_type": "execute_result"
    }
   ],
   "source": [
    "len(list_revs)"
   ]
  },
  {
   "cell_type": "code",
   "execution_count": 42,
   "metadata": {},
   "outputs": [
    {
     "data": {
      "text/plain": [
       "30"
      ]
     },
     "execution_count": 42,
     "metadata": {},
     "output_type": "execute_result"
    }
   ],
   "source": [
    "len(list_price)"
   ]
  },
  {
   "cell_type": "code",
   "execution_count": 56,
   "metadata": {},
   "outputs": [],
   "source": [
    "details=scraper.find_all('p', {'class' : 'lemon--p__373c0__3Qnnj',\n",
    "                               'class' : 'text__373c0__2Kxyz',\n",
    "                               'class' : 'text-color--black-extra-light__373c0__2OyzO',\n",
    "                               'class' : 'text-align--right__373c0__1f0KI',\n",
    "                               'class' : 'text-size--small__373c0__3NVWO'})\n",
    "\n",
    "#<p class=\"lemon--p__373c0__3Qnnj text__373c0__2Kxyz text-coor--black-extra-light__373c0__2OyzO text-align--right__373c0__1f0KI text-size--small__373c0__3NVWO\">020 7420 9320</p>l"
   ]
  },
  {
   "cell_type": "code",
   "execution_count": 57,
   "metadata": {},
   "outputs": [],
   "source": [
    "details2=scraper2.find_all('p', {'class' : 'lemon--p__373c0__3Qnnj',\n",
    "                               'class' : 'text__373c0__2Kxyz',\n",
    "                               'class' : 'text-color--black-extra-light__373c0__2OyzO',\n",
    "                               'class' : 'text-align--right__373c0__1f0KI',\n",
    "                               'class' : 'text-size--small__373c0__3NVWO'})\n"
   ]
  },
  {
   "cell_type": "code",
   "execution_count": 58,
   "metadata": {},
   "outputs": [
    {
     "data": {
      "text/plain": [
       "[<p class=\"lemon--p__373c0__3Qnnj text__373c0__2Kxyz text-color--blue-dark__373c0__1jX7S text-align--left__373c0__2XGa- text-weight--semibold__373c0__2l0fe text-size--small__373c0__3NVWO\"><a class=\"lemon--a__373c0__IEZFH link__373c0__1G70M link-color--inherit__373c0__3dzpk link-size--default__373c0__7tls6\" href=\"\" name=\"\" rel=\"button\" role=\"button\" target=\"\">See all</a></p>,\n",
       " <p class=\"lemon--p__373c0__3Qnnj text__373c0__2Kxyz text-color--blue-dark__373c0__1jX7S text-align--left__373c0__2XGa- text-weight--semibold__373c0__2l0fe text-size--small__373c0__3NVWO\"><a class=\"lemon--a__373c0__IEZFH link__373c0__1G70M link-color--inherit__373c0__3dzpk link-size--default__373c0__7tls6\" href=\"\" name=\"\" rel=\"button\" role=\"button\" target=\"\">See all</a></p>,\n",
       " <p class=\"lemon--p__373c0__3Qnnj text__373c0__2Kxyz text-color--blue-dark__373c0__1jX7S text-align--left__373c0__2XGa- text-weight--semibold__373c0__2l0fe text-size--small__373c0__3NVWO\"><a class=\"lemon--a__373c0__IEZFH link__373c0__1G70M link-color--inherit__373c0__3dzpk link-size--default__373c0__7tls6\" href=\"\" name=\"\" rel=\"button\" role=\"button\" target=\"\">See all</a></p>,\n",
       " <p class=\"lemon--p__373c0__3Qnnj text__373c0__2Kxyz text-color--black-extra-light__373c0__2OyzO text-align--left__373c0__2XGa- text-size--small__373c0__3NVWO\">Order in</p>,\n",
       " <p class=\"lemon--p__373c0__3Qnnj text__373c0__2Kxyz text-color--black-extra-light__373c0__2OyzO text-align--left__373c0__2XGa- text-size--small__373c0__3NVWO\">Grab and go</p>,\n",
       " <p class=\"lemon--p__373c0__3Qnnj text__373c0__2Kxyz text-color--black-extra-light__373c0__2OyzO text-align--right__373c0__1f0KI text-size--small__373c0__3NVWO\">020 7487 4797</p>,\n",
       " <p class=\"lemon--p__373c0__3Qnnj text__373c0__2Kxyz text-color--black-extra-light__373c0__2OyzO text-align--right__373c0__1f0KI text-size--small__373c0__3NVWO\"><span class=\"lemon--span__373c0__3997G raw__373c0__3rcx7\">134 Marylebone Road</span></p>,\n",
       " <p class=\"lemon--p__373c0__3Qnnj text__373c0__2Kxyz text-color--black-extra-light__373c0__2OyzO text-align--right__373c0__1f0KI text-size--small__373c0__3NVWO\">Marylebone</p>,\n",
       " <p class=\"lemon--p__373c0__3Qnnj text__373c0__2Kxyz text-color--black-extra-light__373c0__2OyzO text-align--right__373c0__1f0KI text-size--small__373c0__3NVWO\">020 7287 8712</p>,\n",
       " <p class=\"lemon--p__373c0__3Qnnj text__373c0__2Kxyz text-color--black-extra-light__373c0__2OyzO text-align--right__373c0__1f0KI text-size--small__373c0__3NVWO\"><span class=\"lemon--span__373c0__3997G raw__373c0__3rcx7\">36-44 Brewer Street</span></p>,\n",
       " <p class=\"lemon--p__373c0__3Qnnj text__373c0__2Kxyz text-color--black-extra-light__373c0__2OyzO text-align--right__373c0__1f0KI text-size--small__373c0__3NVWO\">Soho</p>,\n",
       " <p class=\"lemon--p__373c0__3Qnnj text__373c0__2Kxyz text-color--black-extra-light__373c0__2OyzO text-align--right__373c0__1f0KI text-size--small__373c0__3NVWO\">020 7073 7676</p>,\n",
       " <p class=\"lemon--p__373c0__3Qnnj text__373c0__2Kxyz text-color--black-extra-light__373c0__2OyzO text-align--right__373c0__1f0KI text-size--small__373c0__3NVWO\"><span class=\"lemon--span__373c0__3997G raw__373c0__3rcx7\">1 Chiltern Street</span></p>,\n",
       " <p class=\"lemon--p__373c0__3Qnnj text__373c0__2Kxyz text-color--black-extra-light__373c0__2OyzO text-align--right__373c0__1f0KI text-size--small__373c0__3NVWO\">Marylebone</p>,\n",
       " <p class=\"lemon--p__373c0__3Qnnj text__373c0__2Kxyz text-color--black-extra-light__373c0__2OyzO text-align--right__373c0__1f0KI text-size--small__373c0__3NVWO\">020 7483 1826</p>,\n",
       " <p class=\"lemon--p__373c0__3Qnnj text__373c0__2Kxyz text-color--black-extra-light__373c0__2OyzO text-align--right__373c0__1f0KI text-size--small__373c0__3NVWO\"><span class=\"lemon--span__373c0__3997G raw__373c0__3rcx7\">64 St John's Wood High Street</span></p>,\n",
       " <p class=\"lemon--p__373c0__3Qnnj text__373c0__2Kxyz text-color--black-extra-light__373c0__2OyzO text-align--right__373c0__1f0KI text-size--small__373c0__3NVWO\">St John's Wood</p>,\n",
       " <p class=\"lemon--p__373c0__3Qnnj text__373c0__2Kxyz text-color--black-extra-light__373c0__2OyzO text-align--right__373c0__1f0KI text-size--small__373c0__3NVWO\">020 3262 0501</p>,\n",
       " <p class=\"lemon--p__373c0__3Qnnj text__373c0__2Kxyz text-color--black-extra-light__373c0__2OyzO text-align--right__373c0__1f0KI text-size--small__373c0__3NVWO\"><span class=\"lemon--span__373c0__3997G raw__373c0__3rcx7\">52 Cambridge Street</span></p>,\n",
       " <p class=\"lemon--p__373c0__3Qnnj text__373c0__2Kxyz text-color--black-extra-light__373c0__2OyzO text-align--right__373c0__1f0KI text-size--small__373c0__3NVWO\">Pimlico</p>,\n",
       " <p class=\"lemon--p__373c0__3Qnnj text__373c0__2Kxyz text-color--black-extra-light__373c0__2OyzO text-align--right__373c0__1f0KI text-size--small__373c0__3NVWO\">020 7735 5853</p>,\n",
       " <p class=\"lemon--p__373c0__3Qnnj text__373c0__2Kxyz text-color--black-extra-light__373c0__2OyzO text-align--right__373c0__1f0KI text-size--small__373c0__3NVWO\"><span class=\"lemon--span__373c0__3997G raw__373c0__3rcx7\">383 Kennington Lane</span></p>,\n",
       " <p class=\"lemon--p__373c0__3Qnnj text__373c0__2Kxyz text-color--black-extra-light__373c0__2OyzO text-align--right__373c0__1f0KI text-size--small__373c0__3NVWO\">Vauxhall</p>,\n",
       " <p class=\"lemon--p__373c0__3Qnnj text__373c0__2Kxyz text-color--black-extra-light__373c0__2OyzO text-align--right__373c0__1f0KI text-size--small__373c0__3NVWO\">020 7483 3765</p>,\n",
       " <p class=\"lemon--p__373c0__3Qnnj text__373c0__2Kxyz text-color--black-extra-light__373c0__2OyzO text-align--right__373c0__1f0KI text-size--small__373c0__3NVWO\"><span class=\"lemon--span__373c0__3997G raw__373c0__3rcx7\">101 Regents Park Road</span></p>,\n",
       " <p class=\"lemon--p__373c0__3Qnnj text__373c0__2Kxyz text-color--black-extra-light__373c0__2OyzO text-align--right__373c0__1f0KI text-size--small__373c0__3NVWO\">Chalk Farm</p>,\n",
       " <p class=\"lemon--p__373c0__3Qnnj text__373c0__2Kxyz text-color--black-extra-light__373c0__2OyzO text-align--right__373c0__1f0KI text-size--small__373c0__3NVWO\">020 7592 8545</p>,\n",
       " <p class=\"lemon--p__373c0__3Qnnj text__373c0__2Kxyz text-color--black-extra-light__373c0__2OyzO text-align--right__373c0__1f0KI text-size--small__373c0__3NVWO\"><span class=\"lemon--span__373c0__3997G raw__373c0__3rcx7\">7-9 Battersea Square</span></p>,\n",
       " <p class=\"lemon--p__373c0__3Qnnj text__373c0__2Kxyz text-color--black-extra-light__373c0__2OyzO text-align--right__373c0__1f0KI text-size--small__373c0__3NVWO\">Battersea</p>,\n",
       " <p class=\"lemon--p__373c0__3Qnnj text__373c0__2Kxyz text-color--black-extra-light__373c0__2OyzO text-align--right__373c0__1f0KI text-size--small__373c0__3NVWO\">020 7229 4678</p>,\n",
       " <p class=\"lemon--p__373c0__3Qnnj text__373c0__2Kxyz text-color--black-extra-light__373c0__2OyzO text-align--right__373c0__1f0KI text-size--small__373c0__3NVWO\"><span class=\"lemon--span__373c0__3997G raw__373c0__3rcx7\">59A Portobello Road</span></p>,\n",
       " <p class=\"lemon--p__373c0__3Qnnj text__373c0__2Kxyz text-color--black-extra-light__373c0__2OyzO text-align--right__373c0__1f0KI text-size--small__373c0__3NVWO\">Notting Hill</p>,\n",
       " <p class=\"lemon--p__373c0__3Qnnj text__373c0__2Kxyz text-color--black-extra-light__373c0__2OyzO text-align--right__373c0__1f0KI text-size--small__373c0__3NVWO\">020 3490 1880</p>,\n",
       " <p class=\"lemon--p__373c0__3Qnnj text__373c0__2Kxyz text-color--black-extra-light__373c0__2OyzO text-align--right__373c0__1f0KI text-size--small__373c0__3NVWO\"><span class=\"lemon--span__373c0__3997G raw__373c0__3rcx7\">47 Commercial Street</span></p>,\n",
       " <p class=\"lemon--p__373c0__3Qnnj text__373c0__2Kxyz text-color--black-extra-light__373c0__2OyzO text-align--right__373c0__1f0KI text-size--small__373c0__3NVWO\">Aldgate</p>,\n",
       " <p class=\"lemon--p__373c0__3Qnnj text__373c0__2Kxyz text-color--black-extra-light__373c0__2OyzO text-align--right__373c0__1f0KI text-size--small__373c0__3NVWO\">020 7612 8416</p>,\n",
       " <p class=\"lemon--p__373c0__3Qnnj text__373c0__2Kxyz text-color--black-extra-light__373c0__2OyzO text-align--right__373c0__1f0KI text-size--small__373c0__3NVWO\"><span class=\"lemon--span__373c0__3997G raw__373c0__3rcx7\">15 Montague Street</span></p>,\n",
       " <p class=\"lemon--p__373c0__3Qnnj text__373c0__2Kxyz text-color--black-extra-light__373c0__2OyzO text-align--right__373c0__1f0KI text-size--small__373c0__3NVWO\">Bloomsbury</p>,\n",
       " <p class=\"lemon--p__373c0__3Qnnj text__373c0__2Kxyz text-color--black-extra-light__373c0__2OyzO text-align--right__373c0__1f0KI text-size--small__373c0__3NVWO\">020 7249 0765</p>,\n",
       " <p class=\"lemon--p__373c0__3Qnnj text__373c0__2Kxyz text-color--black-extra-light__373c0__2OyzO text-align--right__373c0__1f0KI text-size--small__373c0__3NVWO\"><span class=\"lemon--span__373c0__3997G raw__373c0__3rcx7\">46 De Beauvoir Crescent</span></p>,\n",
       " <p class=\"lemon--p__373c0__3Qnnj text__373c0__2Kxyz text-color--black-extra-light__373c0__2OyzO text-align--right__373c0__1f0KI text-size--small__373c0__3NVWO\">De Beauvoir</p>,\n",
       " <p class=\"lemon--p__373c0__3Qnnj text__373c0__2Kxyz text-color--black-extra-light__373c0__2OyzO text-align--right__373c0__1f0KI text-size--small__373c0__3NVWO\">020 7283 8800</p>,\n",
       " <p class=\"lemon--p__373c0__3Qnnj text__373c0__2Kxyz text-color--black-extra-light__373c0__2OyzO text-align--right__373c0__1f0KI text-size--small__373c0__3NVWO\"><span class=\"lemon--span__373c0__3997G raw__373c0__3rcx7\">6 Bevis Marks</span></p>,\n",
       " <p class=\"lemon--p__373c0__3Qnnj text__373c0__2Kxyz text-color--black-extra-light__373c0__2OyzO text-align--right__373c0__1f0KI text-size--small__373c0__3NVWO\">Aldgate</p>,\n",
       " <p class=\"lemon--p__373c0__3Qnnj text__373c0__2Kxyz text-color--black-extra-light__373c0__2OyzO text-align--right__373c0__1f0KI text-size--small__373c0__3NVWO\">020 8964 3004</p>,\n",
       " <p class=\"lemon--p__373c0__3Qnnj text__373c0__2Kxyz text-color--black-extra-light__373c0__2OyzO text-align--right__373c0__1f0KI text-size--small__373c0__3NVWO\"><span class=\"lemon--span__373c0__3997G raw__373c0__3rcx7\">93 Golborne Road</span></p>,\n",
       " <p class=\"lemon--p__373c0__3Qnnj text__373c0__2Kxyz text-color--black-extra-light__373c0__2OyzO text-align--right__373c0__1f0KI text-size--small__373c0__3NVWO\">Kensal Town</p>,\n",
       " <p class=\"lemon--p__373c0__3Qnnj text__373c0__2Kxyz text-color--black-extra-light__373c0__2OyzO text-align--right__373c0__1f0KI text-size--small__373c0__3NVWO\">020 7183 2117</p>,\n",
       " <p class=\"lemon--p__373c0__3Qnnj text__373c0__2Kxyz text-color--black-extra-light__373c0__2OyzO text-align--right__373c0__1f0KI text-size--small__373c0__3NVWO\"><span class=\"lemon--span__373c0__3997G raw__373c0__3rcx7\">199 Tooley Street</span></p>,\n",
       " <p class=\"lemon--p__373c0__3Qnnj text__373c0__2Kxyz text-color--black-extra-light__373c0__2OyzO text-align--right__373c0__1f0KI text-size--small__373c0__3NVWO\">London Bridge</p>,\n",
       " <p class=\"lemon--p__373c0__3Qnnj text__373c0__2Kxyz text-color--black-extra-light__373c0__2OyzO text-align--right__373c0__1f0KI text-size--small__373c0__3NVWO\">020 7287 8000</p>,\n",
       " <p class=\"lemon--p__373c0__3Qnnj text__373c0__2Kxyz text-color--black-extra-light__373c0__2OyzO text-align--right__373c0__1f0KI text-size--small__373c0__3NVWO\"><span class=\"lemon--span__373c0__3997G raw__373c0__3rcx7\">1 Kings Boulevard</span></p>,\n",
       " <p class=\"lemon--p__373c0__3Qnnj text__373c0__2Kxyz text-color--black-extra-light__373c0__2OyzO text-align--right__373c0__1f0KI text-size--small__373c0__3NVWO\">King's Cross</p>,\n",
       " <p class=\"lemon--p__373c0__3Qnnj text__373c0__2Kxyz text-color--black-extra-light__373c0__2OyzO text-align--right__373c0__1f0KI text-size--small__373c0__3NVWO\">020 7267 9829</p>,\n",
       " <p class=\"lemon--p__373c0__3Qnnj text__373c0__2Kxyz text-color--black-extra-light__373c0__2OyzO text-align--right__373c0__1f0KI text-size--small__373c0__3NVWO\"><span class=\"lemon--span__373c0__3997G raw__373c0__3rcx7\">1 Randolph Street</span></p>,\n",
       " <p class=\"lemon--p__373c0__3Qnnj text__373c0__2Kxyz text-color--black-extra-light__373c0__2OyzO text-align--right__373c0__1f0KI text-size--small__373c0__3NVWO\">Camden Town</p>,\n",
       " <p class=\"lemon--p__373c0__3Qnnj text__373c0__2Kxyz text-color--black-extra-light__373c0__2OyzO text-align--right__373c0__1f0KI text-size--small__373c0__3NVWO\">020 7440 1456</p>,\n",
       " <p class=\"lemon--p__373c0__3Qnnj text__373c0__2Kxyz text-color--black-extra-light__373c0__2OyzO text-align--right__373c0__1f0KI text-size--small__373c0__3NVWO\"><span class=\"lemon--span__373c0__3997G raw__373c0__3rcx7\">26 Dean Street</span></p>,\n",
       " <p class=\"lemon--p__373c0__3Qnnj text__373c0__2Kxyz text-color--black-extra-light__373c0__2OyzO text-align--right__373c0__1f0KI text-size--small__373c0__3NVWO\">Soho</p>,\n",
       " <p class=\"lemon--p__373c0__3Qnnj text__373c0__2Kxyz text-color--black-extra-light__373c0__2OyzO text-align--right__373c0__1f0KI text-size--small__373c0__3NVWO\">020 7440 1456</p>,\n",
       " <p class=\"lemon--p__373c0__3Qnnj text__373c0__2Kxyz text-color--black-extra-light__373c0__2OyzO text-align--right__373c0__1f0KI text-size--small__373c0__3NVWO\"><span class=\"lemon--span__373c0__3997G raw__373c0__3rcx7\">43 Drury Lane</span></p>,\n",
       " <p class=\"lemon--p__373c0__3Qnnj text__373c0__2Kxyz text-color--black-extra-light__373c0__2OyzO text-align--right__373c0__1f0KI text-size--small__373c0__3NVWO\">Covent Garden</p>,\n",
       " <p class=\"lemon--p__373c0__3Qnnj text__373c0__2Kxyz text-color--black-extra-light__373c0__2OyzO text-align--right__373c0__1f0KI text-size--small__373c0__3NVWO\">020 7420 9322</p>,\n",
       " <p class=\"lemon--p__373c0__3Qnnj text__373c0__2Kxyz text-color--black-extra-light__373c0__2OyzO text-align--right__373c0__1f0KI text-size--small__373c0__3NVWO\"><span class=\"lemon--span__373c0__3997G raw__373c0__3rcx7\">22 Kingly Street</span></p>,\n",
       " <p class=\"lemon--p__373c0__3Qnnj text__373c0__2Kxyz text-color--black-extra-light__373c0__2OyzO text-align--right__373c0__1f0KI text-size--small__373c0__3NVWO\">Soho</p>,\n",
       " <p class=\"lemon--p__373c0__3Qnnj text__373c0__2Kxyz text-color--black-extra-light__373c0__2OyzO text-align--right__373c0__1f0KI text-size--small__373c0__3NVWO\">020 7266 4696</p>,\n",
       " <p class=\"lemon--p__373c0__3Qnnj text__373c0__2Kxyz text-color--black-extra-light__373c0__2OyzO text-align--right__373c0__1f0KI text-size--small__373c0__3NVWO\"><span class=\"lemon--span__373c0__3997G raw__373c0__3rcx7\">166 Randolph Avenue</span></p>,\n",
       " <p class=\"lemon--p__373c0__3Qnnj text__373c0__2Kxyz text-color--black-extra-light__373c0__2OyzO text-align--right__373c0__1f0KI text-size--small__373c0__3NVWO\">Maida Vale</p>,\n",
       " <p class=\"lemon--p__373c0__3Qnnj text__373c0__2Kxyz text-color--black-extra-light__373c0__2OyzO text-align--right__373c0__1f0KI text-size--small__373c0__3NVWO\">020 3747 8633</p>,\n",
       " <p class=\"lemon--p__373c0__3Qnnj text__373c0__2Kxyz text-color--black-extra-light__373c0__2OyzO text-align--right__373c0__1f0KI text-size--small__373c0__3NVWO\"><span class=\"lemon--span__373c0__3997G raw__373c0__3rcx7\">Located in <a href=\"/biz/rosewood-london-london\">Rosewood London</a></span></p>,\n",
       " <p class=\"lemon--p__373c0__3Qnnj text__373c0__2Kxyz text-color--black-extra-light__373c0__2OyzO text-align--right__373c0__1f0KI text-size--small__373c0__3NVWO\">Holborn</p>,\n",
       " <p class=\"lemon--p__373c0__3Qnnj text__373c0__2Kxyz text-color--black-extra-light__373c0__2OyzO text-align--right__373c0__1f0KI text-size--small__373c0__3NVWO\">020 8244 0339</p>,\n",
       " <p class=\"lemon--p__373c0__3Qnnj text__373c0__2Kxyz text-color--black-extra-light__373c0__2OyzO text-align--right__373c0__1f0KI text-size--small__373c0__3NVWO\"><span class=\"lemon--span__373c0__3997G raw__373c0__3rcx7\">322 Lewisham Road</span></p>,\n",
       " <p class=\"lemon--p__373c0__3Qnnj text__373c0__2Kxyz text-color--black-extra-light__373c0__2OyzO text-align--right__373c0__1f0KI text-size--small__373c0__3NVWO\">Lewisham</p>,\n",
       " <p class=\"lemon--p__373c0__3Qnnj text__373c0__2Kxyz text-color--black-extra-light__373c0__2OyzO text-align--right__373c0__1f0KI text-size--small__373c0__3NVWO\">020 7288 1454</p>,\n",
       " <p class=\"lemon--p__373c0__3Qnnj text__373c0__2Kxyz text-color--black-extra-light__373c0__2OyzO text-align--right__373c0__1f0KI text-size--small__373c0__3NVWO\"><span class=\"lemon--span__373c0__3997G raw__373c0__3rcx7\">287 Upper Street</span></p>,\n",
       " <p class=\"lemon--p__373c0__3Qnnj text__373c0__2Kxyz text-color--black-extra-light__373c0__2OyzO text-align--right__373c0__1f0KI text-size--small__373c0__3NVWO\">Islington</p>,\n",
       " <p class=\"lemon--p__373c0__3Qnnj text__373c0__2Kxyz text-color--black-extra-light__373c0__2OyzO text-align--right__373c0__1f0KI text-size--small__373c0__3NVWO\">0844 346 1200</p>,\n",
       " <p class=\"lemon--p__373c0__3Qnnj text__373c0__2Kxyz text-color--black-extra-light__373c0__2OyzO text-align--right__373c0__1f0KI text-size--small__373c0__3NVWO\"><span class=\"lemon--span__373c0__3997G raw__373c0__3rcx7\">139 Tooley Street</span></p>,\n",
       " <p class=\"lemon--p__373c0__3Qnnj text__373c0__2Kxyz text-color--black-extra-light__373c0__2OyzO text-align--right__373c0__1f0KI text-size--small__373c0__3NVWO\">London Bridge</p>,\n",
       " <p class=\"lemon--p__373c0__3Qnnj text__373c0__2Kxyz text-color--black-extra-light__373c0__2OyzO text-align--right__373c0__1f0KI text-size--small__373c0__3NVWO\">020 7737 4953</p>,\n",
       " <p class=\"lemon--p__373c0__3Qnnj text__373c0__2Kxyz text-color--black-extra-light__373c0__2OyzO text-align--right__373c0__1f0KI text-size--small__373c0__3NVWO\"><span class=\"lemon--span__373c0__3997G raw__373c0__3rcx7\">131 Half Moon Lane</span></p>,\n",
       " <p class=\"lemon--p__373c0__3Qnnj text__373c0__2Kxyz text-color--black-extra-light__373c0__2OyzO text-align--right__373c0__1f0KI text-size--small__373c0__3NVWO\">Denmark Hill</p>,\n",
       " <p class=\"lemon--p__373c0__3Qnnj text__373c0__2Kxyz text-color--black-extra-light__373c0__2OyzO text-align--right__373c0__1f0KI text-size--small__373c0__3NVWO\">020 7790 7351</p>,\n",
       " <p class=\"lemon--p__373c0__3Qnnj text__373c0__2Kxyz text-color--black-extra-light__373c0__2OyzO text-align--right__373c0__1f0KI text-size--small__373c0__3NVWO\"><span class=\"lemon--span__373c0__3997G raw__373c0__3rcx7\">5 Mile End Road</span></p>,\n",
       " <p class=\"lemon--p__373c0__3Qnnj text__373c0__2Kxyz text-color--black-extra-light__373c0__2OyzO text-align--right__373c0__1f0KI text-size--small__373c0__3NVWO\">Whitechapel</p>,\n",
       " <p class=\"lemon--p__373c0__3Qnnj text__373c0__2Kxyz text-color--black-extra-light__373c0__2OyzO text-align--right__373c0__1f0KI text-size--small__373c0__3NVWO\">020 7287 6682</p>,\n",
       " <p class=\"lemon--p__373c0__3Qnnj text__373c0__2Kxyz text-color--black-extra-light__373c0__2OyzO text-align--right__373c0__1f0KI text-size--small__373c0__3NVWO\"><span class=\"lemon--span__373c0__3997G raw__373c0__3rcx7\">8 D'Arblay St</span></p>,\n",
       " <p class=\"lemon--p__373c0__3Qnnj text__373c0__2Kxyz text-color--black-extra-light__373c0__2OyzO text-align--right__373c0__1f0KI text-size--small__373c0__3NVWO\">Soho</p>,\n",
       " <p class=\"lemon--p__373c0__3Qnnj text__373c0__2Kxyz text-color--black-extra-light__373c0__2OyzO text-align--right__373c0__1f0KI text-size--small__373c0__3NVWO\">020 7354 7321</p>,\n",
       " <p class=\"lemon--p__373c0__3Qnnj text__373c0__2Kxyz text-color--black-extra-light__373c0__2OyzO text-align--right__373c0__1f0KI text-size--small__373c0__3NVWO\"><span class=\"lemon--span__373c0__3997G raw__373c0__3rcx7\">216 St Paul's Road</span></p>,\n",
       " <p class=\"lemon--p__373c0__3Qnnj text__373c0__2Kxyz text-color--black-extra-light__373c0__2OyzO text-align--right__373c0__1f0KI text-size--small__373c0__3NVWO\">Highbury</p>,\n",
       " <p class=\"lemon--p__373c0__3Qnnj text__373c0__2Kxyz text-color--black-extra-light__373c0__2OyzO text-align--right__373c0__1f0KI text-size--small__373c0__3NVWO\">020 7491 4840</p>,\n",
       " <p class=\"lemon--p__373c0__3Qnnj text__373c0__2Kxyz text-color--black-extra-light__373c0__2OyzO text-align--right__373c0__1f0KI text-size--small__373c0__3NVWO\"><span class=\"lemon--span__373c0__3997G raw__373c0__3rcx7\">Located in <a href=\"/biz/dukes-hotel-london\">Dukes Hotel</a></span></p>,\n",
       " <p class=\"lemon--p__373c0__3Qnnj text__373c0__2Kxyz text-color--black-extra-light__373c0__2OyzO text-align--right__373c0__1f0KI text-size--small__373c0__3NVWO\">St James's</p>,\n",
       " <p class=\"lemon--p__373c0__3Qnnj text__373c0__2Kxyz text-color--black-extra-light__373c0__2OyzO text-align--left__373c0__2XGa- text-size--small__373c0__3NVWO\">Copyright © 2004–2020 Yelp Inc. Yelp,<!-- --> <img alt=\"Yelp logo\" class=\"lemon--img__373c0__3GQUb align-bottom__373c0__1PMP-\" src=\"https://s3-media0.fl.yelpcdn.com/assets/public/logo_desktop_xsmall_outline.yelp-shared-styles.yji-17089be275f0e32eb065304790b0c35e.png\" srcset=\"https://s3-media0.fl.yelpcdn.com/assets/public/logo_desktop_xsmall_outline@2x.yelp-shared-styles.yji-0aade8725c91582a386d6d01dc973b74.png 2x\"/>, <!-- --> <img alt=\"Yelp burst\" class=\"lemon--img__373c0__3GQUb align-bottom__373c0__1PMP-\" src=\"https://s3-media0.fl.yelpcdn.com/assets/public/burst_desktop_xsmall_outline.yelp-shared-styles.yji-58cfc999e1f5da75e75ddf71c868c656.png\" srcset=\"https://s3-media0.fl.yelpcdn.com/assets/public/burst_desktop_xsmall_outline@2x.yelp-shared-styles.yji-dcb526e86d86cc0427ef2e8287d0aa17.png 2x\"/> <!-- -->and related marks are registered trademarks of Yelp.</p>]"
      ]
     },
     "execution_count": 58,
     "metadata": {},
     "output_type": "execute_result"
    }
   ],
   "source": [
    "details2"
   ]
  },
  {
   "cell_type": "code",
   "execution_count": 59,
   "metadata": {},
   "outputs": [],
   "source": [
    "details=[str(item) for item in details]\n",
    "details=[item.replace('</p>', \"\") for item in details]\n",
    "details=[item.split('>')[1] for item in details]"
   ]
  },
  {
   "cell_type": "code",
   "execution_count": 60,
   "metadata": {},
   "outputs": [],
   "source": [
    "details2=[str(item) for item in details2]\n",
    "details2=[item.replace('</p>', \"\") for item in details2]\n",
    "details2=[item.split('>')[1] for item in details2]"
   ]
  },
  {
   "cell_type": "code",
   "execution_count": 61,
   "metadata": {},
   "outputs": [],
   "source": [
    "details=[item for item in details if '<span' not in item  if '<a' not in item]"
   ]
  },
  {
   "cell_type": "code",
   "execution_count": 62,
   "metadata": {},
   "outputs": [],
   "source": [
    "details2=[item for item in details2 if '<span' not in item  if '<a' not in item]"
   ]
  },
  {
   "cell_type": "code",
   "execution_count": 63,
   "metadata": {},
   "outputs": [],
   "source": [
    "isaplace=all(letter.isalpha() or letter.isspace() for item in details for letter in item)\n",
    "isspace=any(letter==\" \" for item in details for letter in item)\n",
    "\n",
    "\n",
    "locations=[item for item in details if all(letter.isalpha() or letter.isspace() for letter in item )]\n",
    "telnums= [item for item in details if all(letter.isdigit() or letter.isspace() for letter in item )]\n",
    "\n"
   ]
  },
  {
   "cell_type": "code",
   "execution_count": 64,
   "metadata": {},
   "outputs": [],
   "source": [
    "detailsf=details[2:-1]"
   ]
  },
  {
   "cell_type": "code",
   "execution_count": 65,
   "metadata": {},
   "outputs": [
    {
     "data": {
      "text/plain": [
       "['020 7420 9320',\n",
       " 'Covent Garden',\n",
       " '020 7937 4152',\n",
       " 'Kensington',\n",
       " '020 7352 4441',\n",
       " 'Chelsea',\n",
       " '020 7434 2571',\n",
       " 'Soho',\n",
       " '020 7494 9644',\n",
       " 'Soho',\n",
       " '020 3640 7310',\n",
       " 'Aldgate',\n",
       " '020 7741 2233',\n",
       " 'Mayfair',\n",
       " '020 7724 7243',\n",
       " 'Marylebone',\n",
       " '020 7388 6175',\n",
       " 'Fitzrovia',\n",
       " '020 7499 6996',\n",
       " 'Mayfair',\n",
       " '020 7229 9111',\n",
       " 'Notting Hill',\n",
       " '020 3900 4444',\n",
       " 'Leicester Square',\n",
       " '020 3019 2200',\n",
       " 'Soho',\n",
       " 'Borough',\n",
       " '020 7821 6596',\n",
       " 'Westminster',\n",
       " 'Soho',\n",
       " '020 7659 4500',\n",
       " 'Mayfair',\n",
       " '020 7494 9584',\n",
       " 'Soho',\n",
       " '020 3883 4710',\n",
       " 'Covent Garden',\n",
       " '020 7401 2760',\n",
       " 'Southwark',\n",
       " '04420 8772 9085',\n",
       " 'Balham',\n",
       " '020 7226 3535',\n",
       " 'Islington',\n",
       " '07534 134398',\n",
       " 'Soho',\n",
       " '020 8692 4333',\n",
       " 'Deptford',\n",
       " '020 7700 5441',\n",
       " 'Lower Holloway',\n",
       " '020 7353 6170',\n",
       " 'Blackfriars',\n",
       " '020 7834 3313',\n",
       " 'Victoria',\n",
       " 'London Bridge',\n",
       " 'Fitzrovia',\n",
       " '020 7262 5204',\n",
       " 'Bayswater']"
      ]
     },
     "execution_count": 65,
     "metadata": {},
     "output_type": "execute_result"
    }
   ],
   "source": [
    "detailsf"
   ]
  },
  {
   "cell_type": "code",
   "execution_count": 66,
   "metadata": {},
   "outputs": [],
   "source": [
    "list_tel=[]\n",
    "list_places=[]\n",
    "n=0\n",
    "while n < (len(detailsf)):\n",
    "    if all(letter.isdigit() or letter.isspace() for letter in detailsf[n]):\n",
    "        if all(letter.isalpha() or letter.isspace() for letter in detailsf[n+1]) or  '\\'s' in detailsf[n]:\n",
    "            list_tel.append(detailsf[n])\n",
    "            list_places.append(detailsf[n+1])\n",
    "            n=n+2\n",
    "        else:\n",
    "            list_tel.append(detailsf[n])\n",
    "            list_places.append('Missing')\n",
    "            n=n+1\n",
    "            \n",
    "    elif all(letter.isalpha() or letter.isspace() for letter in detailsf[n]) or  '\\'s' in detailsf[n]:\n",
    "        list_tel.append('Missing')\n",
    "        list_places.append(detailsf[n])\n",
    "        n+=1\n",
    "    else:\n",
    "        n=n+1\n",
    "        continue\n",
    "            "
   ]
  },
  {
   "cell_type": "code",
   "execution_count": 67,
   "metadata": {},
   "outputs": [
    {
     "data": {
      "text/plain": [
       "30"
      ]
     },
     "execution_count": 67,
     "metadata": {},
     "output_type": "execute_result"
    }
   ],
   "source": [
    "len(list_places)"
   ]
  },
  {
   "cell_type": "code",
   "execution_count": 68,
   "metadata": {},
   "outputs": [
    {
     "data": {
      "text/plain": [
       "30"
      ]
     },
     "execution_count": 68,
     "metadata": {},
     "output_type": "execute_result"
    }
   ],
   "source": [
    "len(list_tel)"
   ]
  },
  {
   "cell_type": "code",
   "execution_count": 69,
   "metadata": {},
   "outputs": [],
   "source": [
    "df_dict = {\n",
    "    'Name': names,\n",
    "    'NumReviews': list_revs,\n",
    "    'PriceRange': list_price,\n",
    "    'Telephone' : list_tel,\n",
    "    'Location'  : list_places\n",
    "}\n",
    "\n",
    "df = pd.DataFrame(df_dict)"
   ]
  },
  {
   "cell_type": "code",
   "execution_count": 70,
   "metadata": {},
   "outputs": [
    {
     "data": {
      "text/html": [
       "<div>\n",
       "<style scoped>\n",
       "    .dataframe tbody tr th:only-of-type {\n",
       "        vertical-align: middle;\n",
       "    }\n",
       "\n",
       "    .dataframe tbody tr th {\n",
       "        vertical-align: top;\n",
       "    }\n",
       "\n",
       "    .dataframe thead th {\n",
       "        text-align: right;\n",
       "    }\n",
       "</style>\n",
       "<table border=\"1\" class=\"dataframe\">\n",
       "  <thead>\n",
       "    <tr style=\"text-align: right;\">\n",
       "      <th></th>\n",
       "      <th>Name</th>\n",
       "      <th>NumReviews</th>\n",
       "      <th>PriceRange</th>\n",
       "      <th>Telephone</th>\n",
       "      <th>Location</th>\n",
       "    </tr>\n",
       "  </thead>\n",
       "  <tbody>\n",
       "    <tr>\n",
       "      <th>0</th>\n",
       "      <td>Dishoom</td>\n",
       "      <td>1843</td>\n",
       "      <td>££</td>\n",
       "      <td>020 7420 9320</td>\n",
       "      <td>Covent Garden</td>\n",
       "    </tr>\n",
       "    <tr>\n",
       "      <th>1</th>\n",
       "      <td>Ffiona’s Restaurant</td>\n",
       "      <td>270</td>\n",
       "      <td>££</td>\n",
       "      <td>020 7937 4152</td>\n",
       "      <td>Kensington</td>\n",
       "    </tr>\n",
       "    <tr>\n",
       "      <th>2</th>\n",
       "      <td>Restaurant Gordon Ramsay</td>\n",
       "      <td>204</td>\n",
       "      <td>££££</td>\n",
       "      <td>020 7352 4441</td>\n",
       "      <td>Chelsea</td>\n",
       "    </tr>\n",
       "    <tr>\n",
       "      <th>3</th>\n",
       "      <td>The Breakfast Club</td>\n",
       "      <td>495</td>\n",
       "      <td>££</td>\n",
       "      <td>020 7434 2571</td>\n",
       "      <td>Soho</td>\n",
       "    </tr>\n",
       "    <tr>\n",
       "      <th>4</th>\n",
       "      <td>Mother Mash</td>\n",
       "      <td>468</td>\n",
       "      <td>££</td>\n",
       "      <td>020 7494 9644</td>\n",
       "      <td>Soho</td>\n",
       "    </tr>\n",
       "    <tr>\n",
       "      <th>5</th>\n",
       "      <td>Duck &amp;amp; Waffle</td>\n",
       "      <td>701</td>\n",
       "      <td>£££</td>\n",
       "      <td>020 3640 7310</td>\n",
       "      <td>Aldgate</td>\n",
       "    </tr>\n",
       "    <tr>\n",
       "      <th>6</th>\n",
       "      <td>The Mayfair Chippy</td>\n",
       "      <td>276</td>\n",
       "      <td>££</td>\n",
       "      <td>020 7741 2233</td>\n",
       "      <td>Mayfair</td>\n",
       "    </tr>\n",
       "    <tr>\n",
       "      <th>7</th>\n",
       "      <td>The Grazing Goat</td>\n",
       "      <td>239</td>\n",
       "      <td>££</td>\n",
       "      <td>020 7724 7243</td>\n",
       "      <td>Marylebone</td>\n",
       "    </tr>\n",
       "    <tr>\n",
       "      <th>8</th>\n",
       "      <td>Honey &amp;amp; Co</td>\n",
       "      <td>110</td>\n",
       "      <td>££</td>\n",
       "      <td>020 7388 6175</td>\n",
       "      <td>Fitzrovia</td>\n",
       "    </tr>\n",
       "    <tr>\n",
       "      <th>9</th>\n",
       "      <td>The Wolseley</td>\n",
       "      <td>551</td>\n",
       "      <td>£££</td>\n",
       "      <td>020 7499 6996</td>\n",
       "      <td>Mayfair</td>\n",
       "    </tr>\n",
       "    <tr>\n",
       "      <th>10</th>\n",
       "      <td>Granger &amp;amp; Co</td>\n",
       "      <td>183</td>\n",
       "      <td>££</td>\n",
       "      <td>020 7229 9111</td>\n",
       "      <td>Notting Hill</td>\n",
       "    </tr>\n",
       "    <tr>\n",
       "      <th>11</th>\n",
       "      <td>Duck &amp;amp; Waffle Local</td>\n",
       "      <td>142</td>\n",
       "      <td>££</td>\n",
       "      <td>020 3900 4444</td>\n",
       "      <td>Leicester Square</td>\n",
       "    </tr>\n",
       "    <tr>\n",
       "      <th>12</th>\n",
       "      <td>BAO - Soho</td>\n",
       "      <td>183</td>\n",
       "      <td>££</td>\n",
       "      <td>020 3019 2200</td>\n",
       "      <td>Soho</td>\n",
       "    </tr>\n",
       "    <tr>\n",
       "      <th>13</th>\n",
       "      <td>Where the Pancakes are</td>\n",
       "      <td>75</td>\n",
       "      <td>££</td>\n",
       "      <td>Missing</td>\n",
       "      <td>Borough</td>\n",
       "    </tr>\n",
       "    <tr>\n",
       "      <th>14</th>\n",
       "      <td>Regency Café</td>\n",
       "      <td>394</td>\n",
       "      <td>£</td>\n",
       "      <td>020 7821 6596</td>\n",
       "      <td>Westminster</td>\n",
       "    </tr>\n",
       "    <tr>\n",
       "      <th>15</th>\n",
       "      <td>Flat Iron</td>\n",
       "      <td>377</td>\n",
       "      <td>££</td>\n",
       "      <td>Missing</td>\n",
       "      <td>Soho</td>\n",
       "    </tr>\n",
       "    <tr>\n",
       "      <th>16</th>\n",
       "      <td>Sketch</td>\n",
       "      <td>830</td>\n",
       "      <td>£££</td>\n",
       "      <td>020 7659 4500</td>\n",
       "      <td>Mayfair</td>\n",
       "    </tr>\n",
       "    <tr>\n",
       "      <th>17</th>\n",
       "      <td>NOPI</td>\n",
       "      <td>271</td>\n",
       "      <td>£££</td>\n",
       "      <td>020 7494 9584</td>\n",
       "      <td>Soho</td>\n",
       "    </tr>\n",
       "    <tr>\n",
       "      <th>18</th>\n",
       "      <td>Dominique Ansel Treehouse</td>\n",
       "      <td>3</td>\n",
       "      <td>Missing</td>\n",
       "      <td>020 3883 4710</td>\n",
       "      <td>Covent Garden</td>\n",
       "    </tr>\n",
       "    <tr>\n",
       "      <th>19</th>\n",
       "      <td>The Table</td>\n",
       "      <td>266</td>\n",
       "      <td>££</td>\n",
       "      <td>020 7401 2760</td>\n",
       "      <td>Southwark</td>\n",
       "    </tr>\n",
       "    <tr>\n",
       "      <th>20</th>\n",
       "      <td>Milk</td>\n",
       "      <td>48</td>\n",
       "      <td>££</td>\n",
       "      <td>04420 8772 9085</td>\n",
       "      <td>Balham</td>\n",
       "    </tr>\n",
       "    <tr>\n",
       "      <th>21</th>\n",
       "      <td>Brother Marcus</td>\n",
       "      <td>4</td>\n",
       "      <td>Missing</td>\n",
       "      <td>020 7226 3535</td>\n",
       "      <td>Islington</td>\n",
       "    </tr>\n",
       "    <tr>\n",
       "      <th>22</th>\n",
       "      <td>Soho Joe</td>\n",
       "      <td>27</td>\n",
       "      <td>Missing</td>\n",
       "      <td>07534 134398</td>\n",
       "      <td>Soho</td>\n",
       "    </tr>\n",
       "    <tr>\n",
       "      <th>23</th>\n",
       "      <td>The Golden Chippy</td>\n",
       "      <td>108</td>\n",
       "      <td>££</td>\n",
       "      <td>020 8692 4333</td>\n",
       "      <td>Deptford</td>\n",
       "    </tr>\n",
       "    <tr>\n",
       "      <th>24</th>\n",
       "      <td>Piebury Corner</td>\n",
       "      <td>35</td>\n",
       "      <td>£</td>\n",
       "      <td>020 7700 5441</td>\n",
       "      <td>Lower Holloway</td>\n",
       "    </tr>\n",
       "    <tr>\n",
       "      <th>25</th>\n",
       "      <td>Ye Olde Cheshire Cheese</td>\n",
       "      <td>353</td>\n",
       "      <td>££</td>\n",
       "      <td>020 7353 6170</td>\n",
       "      <td>Blackfriars</td>\n",
       "    </tr>\n",
       "    <tr>\n",
       "      <th>26</th>\n",
       "      <td>The Queens Arms</td>\n",
       "      <td>119</td>\n",
       "      <td>££</td>\n",
       "      <td>020 7834 3313</td>\n",
       "      <td>Victoria</td>\n",
       "    </tr>\n",
       "    <tr>\n",
       "      <th>27</th>\n",
       "      <td>Padella</td>\n",
       "      <td>202</td>\n",
       "      <td>££</td>\n",
       "      <td>Missing</td>\n",
       "      <td>London Bridge</td>\n",
       "    </tr>\n",
       "    <tr>\n",
       "      <th>28</th>\n",
       "      <td>Circolo Popolare</td>\n",
       "      <td>11</td>\n",
       "      <td>Missing</td>\n",
       "      <td>Missing</td>\n",
       "      <td>Fitzrovia</td>\n",
       "    </tr>\n",
       "    <tr>\n",
       "      <th>29</th>\n",
       "      <td>The Swan</td>\n",
       "      <td>115</td>\n",
       "      <td>££</td>\n",
       "      <td>020 7262 5204</td>\n",
       "      <td>Bayswater</td>\n",
       "    </tr>\n",
       "  </tbody>\n",
       "</table>\n",
       "</div>"
      ],
      "text/plain": [
       "                         Name NumReviews PriceRange        Telephone  \\\n",
       "0                     Dishoom       1843         ££    020 7420 9320   \n",
       "1         Ffiona’s Restaurant        270         ££    020 7937 4152   \n",
       "2    Restaurant Gordon Ramsay        204       ££££    020 7352 4441   \n",
       "3          The Breakfast Club        495         ££    020 7434 2571   \n",
       "4                 Mother Mash        468         ££    020 7494 9644   \n",
       "5           Duck &amp; Waffle        701        £££    020 3640 7310   \n",
       "6          The Mayfair Chippy        276         ££    020 7741 2233   \n",
       "7            The Grazing Goat        239         ££    020 7724 7243   \n",
       "8              Honey &amp; Co        110         ££    020 7388 6175   \n",
       "9                The Wolseley        551        £££    020 7499 6996   \n",
       "10           Granger &amp; Co        183         ££    020 7229 9111   \n",
       "11    Duck &amp; Waffle Local        142         ££    020 3900 4444   \n",
       "12                 BAO - Soho        183         ££    020 3019 2200   \n",
       "13     Where the Pancakes are         75         ££          Missing   \n",
       "14               Regency Café        394          £    020 7821 6596   \n",
       "15                  Flat Iron        377         ££          Missing   \n",
       "16                     Sketch        830        £££    020 7659 4500   \n",
       "17                       NOPI        271        £££    020 7494 9584   \n",
       "18  Dominique Ansel Treehouse          3    Missing    020 3883 4710   \n",
       "19                  The Table        266         ££    020 7401 2760   \n",
       "20                       Milk         48         ££  04420 8772 9085   \n",
       "21             Brother Marcus          4    Missing    020 7226 3535   \n",
       "22                   Soho Joe         27    Missing     07534 134398   \n",
       "23          The Golden Chippy        108         ££    020 8692 4333   \n",
       "24             Piebury Corner         35          £    020 7700 5441   \n",
       "25    Ye Olde Cheshire Cheese        353         ££    020 7353 6170   \n",
       "26            The Queens Arms        119         ££    020 7834 3313   \n",
       "27                    Padella        202         ££          Missing   \n",
       "28           Circolo Popolare         11    Missing          Missing   \n",
       "29                   The Swan        115         ££    020 7262 5204   \n",
       "\n",
       "            Location  \n",
       "0      Covent Garden  \n",
       "1         Kensington  \n",
       "2            Chelsea  \n",
       "3               Soho  \n",
       "4               Soho  \n",
       "5            Aldgate  \n",
       "6            Mayfair  \n",
       "7         Marylebone  \n",
       "8          Fitzrovia  \n",
       "9            Mayfair  \n",
       "10      Notting Hill  \n",
       "11  Leicester Square  \n",
       "12              Soho  \n",
       "13           Borough  \n",
       "14       Westminster  \n",
       "15              Soho  \n",
       "16           Mayfair  \n",
       "17              Soho  \n",
       "18     Covent Garden  \n",
       "19         Southwark  \n",
       "20            Balham  \n",
       "21         Islington  \n",
       "22              Soho  \n",
       "23          Deptford  \n",
       "24    Lower Holloway  \n",
       "25       Blackfriars  \n",
       "26          Victoria  \n",
       "27     London Bridge  \n",
       "28         Fitzrovia  \n",
       "29         Bayswater  "
      ]
     },
     "execution_count": 70,
     "metadata": {},
     "output_type": "execute_result"
    }
   ],
   "source": [
    "df"
   ]
  },
  {
   "cell_type": "code",
   "execution_count": null,
   "metadata": {},
   "outputs": [],
   "source": []
  }
 ],
 "metadata": {
  "kernelspec": {
   "display_name": "Python 3",
   "language": "python",
   "name": "python3"
  },
  "language_info": {
   "codemirror_mode": {
    "name": "ipython",
    "version": 3
   },
   "file_extension": ".py",
   "mimetype": "text/x-python",
   "name": "python",
   "nbconvert_exporter": "python",
   "pygments_lexer": "ipython3",
   "version": "3.7.6"
  }
 },
 "nbformat": 4,
 "nbformat_minor": 4
}
