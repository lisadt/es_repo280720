{
 "cells": [
  {
   "cell_type": "markdown",
   "metadata": {},
   "source": [
    "### Pandas Lab -- Basic Selecting & Querying\n",
    "\n",
    "This lab walks you through various sections of Pandas syntax for grabbing & selecting data.\n",
    "\n",
    "The lab is broken down into three parts, and will be completed throughout class.\n",
    "\n",
    " - 1. Basic selectors with Pandas\n",
    " - 2. Selecting based on conditions & boolean indexes\n",
    " - 3. Special commands for selecting certain types of rows"
   ]
  },
  {
   "cell_type": "markdown",
   "metadata": {},
   "source": [
    "### Section 1:  Selecting Data With Pandas"
   ]
  },
  {
   "cell_type": "markdown",
   "metadata": {},
   "source": [
    "**1). What is the average age of all passengers on board?**"
   ]
  },
  {
   "cell_type": "code",
   "execution_count": null,
   "metadata": {},
   "outputs": [],
   "source": [
    "# your answer here"
   ]
  },
  {
   "cell_type": "markdown",
   "metadata": {},
   "source": [
    "**2). What are the median values of the Fare & SibSp columns?**"
   ]
  },
  {
   "cell_type": "code",
   "execution_count": null,
   "metadata": {},
   "outputs": [],
   "source": [
    "# your answer here"
   ]
  },
  {
   "cell_type": "markdown",
   "metadata": {},
   "source": [
    "**3). What was the maximum fare paid among the first 100 passengers on board? (This would be the first 100 rows)**"
   ]
  },
  {
   "cell_type": "code",
   "execution_count": null,
   "metadata": {},
   "outputs": [],
   "source": [
    "# your answer here"
   ]
  },
  {
   "cell_type": "markdown",
   "metadata": {},
   "source": [
    "**4). What is the modal value of the last 4 columns in the dataset?**"
   ]
  },
  {
   "cell_type": "code",
   "execution_count": null,
   "metadata": {},
   "outputs": [],
   "source": [
    "# your answer here"
   ]
  },
  {
   "cell_type": "markdown",
   "metadata": {},
   "source": [
    "**5). What is the mean value of the first 250 rows of the first 3 columns in the dataset?**"
   ]
  },
  {
   "cell_type": "code",
   "execution_count": null,
   "metadata": {},
   "outputs": [],
   "source": [
    "# your answer here"
   ]
  },
  {
   "cell_type": "markdown",
   "metadata": {},
   "source": [
    "### Section II: Selecting Based on Conditions"
   ]
  },
  {
   "cell_type": "markdown",
   "metadata": {},
   "source": [
    "**1). How many females were on board the titanic? Men?**"
   ]
  },
  {
   "cell_type": "code",
   "execution_count": null,
   "metadata": {},
   "outputs": [],
   "source": [
    "# your answer here"
   ]
  },
  {
   "cell_type": "markdown",
   "metadata": {},
   "source": [
    "**2). What was the survival rate for females on the titanic? Men?**"
   ]
  },
  {
   "cell_type": "code",
   "execution_count": null,
   "metadata": {},
   "outputs": [],
   "source": [
    "# your answer here"
   ]
  },
  {
   "cell_type": "markdown",
   "metadata": {},
   "source": [
    "**3). What was the survival rate for people in either passenger class 1 or 2?**"
   ]
  },
  {
   "cell_type": "code",
   "execution_count": null,
   "metadata": {},
   "outputs": [],
   "source": [
    "# your answer here"
   ]
  },
  {
   "cell_type": "markdown",
   "metadata": {},
   "source": [
    "**4). Were woman more likely to survive if they were traveling without siblings?**"
   ]
  },
  {
   "cell_type": "code",
   "execution_count": null,
   "metadata": {},
   "outputs": [],
   "source": [
    "# your answer here"
   ]
  },
  {
   "cell_type": "markdown",
   "metadata": {},
   "source": [
    "**Section III: Special Types of Selectors**"
   ]
  },
  {
   "cell_type": "markdown",
   "metadata": {},
   "source": [
    "To get some additional practice using common Pandas methods, we'll go over some common scenarios you typically have to select data for. \n",
    "\n",
    "*The methods used in this section have not been covered in class.*  Each question will come with the recommended method to use.  It's best to use the `?` before the method to read how it works and figure out how to use it.  \n",
    "\n",
    "It's designed to be a little bit of a treasure hunt to familiarize yourself with a lot of the bread & butter pandas methods."
   ]
  },
  {
   "cell_type": "markdown",
   "metadata": {},
   "source": [
    "**1). Can you return the amount of null values for each column?**\n",
    "\n",
    "To use: `df.isnull()`.  **Hint:** `True` sums to 1, `False` to 0."
   ]
  },
  {
   "cell_type": "code",
   "execution_count": null,
   "metadata": {},
   "outputs": [],
   "source": [
    "# your answer here"
   ]
  },
  {
   "cell_type": "markdown",
   "metadata": {},
   "source": [
    "**2). Can you find the count values for every single unique value within a column?**\n",
    "\n",
    "To use: `pd.Series.value_counts()`.  **Hint:** This is a *Series* method, not a *Dataframe* method.  "
   ]
  },
  {
   "cell_type": "code",
   "execution_count": null,
   "metadata": {},
   "outputs": [],
   "source": [
    "# your answer here"
   ]
  },
  {
   "cell_type": "markdown",
   "metadata": {},
   "source": [
    "**3). Can you find the column with the highest number of unique values?**\n",
    "\n",
    "To use: `pd.Series.nunique`, and `df.sort_values()` if you want to sort it."
   ]
  },
  {
   "cell_type": "code",
   "execution_count": null,
   "metadata": {},
   "outputs": [],
   "source": [
    "# your answer here"
   ]
  },
  {
   "cell_type": "markdown",
   "metadata": {},
   "source": [
    "**4). Can you query your dataframe so that it only returns columns that have empty values?**\n",
    "\n",
    "To use: `df.isnull()`, `df.loc`"
   ]
  },
  {
   "cell_type": "code",
   "execution_count": null,
   "metadata": {},
   "outputs": [],
   "source": [
    "# your answer here"
   ]
  },
  {
   "cell_type": "markdown",
   "metadata": {},
   "source": [
    "**5).  Can you query the dataframe such that it only returns rows that have *no* missing values, in any of their columns?**\n",
    "\n",
    "To use: `df.isnull()`, `df.any()`, or, conversely, `df.notnull()`, and `df.all()`\n",
    "\n",
    "**Hint:** The `~` operator, if put in front of a query, selects for values that are **not** True."
   ]
  },
  {
   "cell_type": "code",
   "execution_count": null,
   "metadata": {},
   "outputs": [],
   "source": [
    "# your answer here"
   ]
  },
  {
   "cell_type": "markdown",
   "metadata": {},
   "source": [
    "**6).  Can you sort passengers according to how much they paid for a ticket?**\n",
    "\n",
    "To use: `df.sort_values()`"
   ]
  },
  {
   "cell_type": "code",
   "execution_count": null,
   "metadata": {},
   "outputs": [],
   "source": [
    "# your answer here"
   ]
  },
  {
   "cell_type": "markdown",
   "metadata": {},
   "source": [
    "**7). Can you sort passengers according to how much they paid for a ticket, within each port of embarkment?**  \n",
    "\n",
    "ie, sort the rows so that the passengers who embarked from port `C` are listed first, and then within port `C` everyone is sorted by how much they paid for a ticket.\n",
    "\n",
    "To use: `df.sort_values()`"
   ]
  },
  {
   "cell_type": "code",
   "execution_count": null,
   "metadata": {},
   "outputs": [],
   "source": [
    "# your answer here"
   ]
  },
  {
   "cell_type": "markdown",
   "metadata": {},
   "source": [
    "**8). If people traveled in a group they had the same ticket number.  Can you query your dataframe to return the tickets values that occurred more than once?  Ie, run a line in pandas that returns *a list* of ticket values that occurred more than once, not an entire dataframe.**\n",
    "\n",
    "To use: there are a few methods you can use, but try `df.duplicated()`, along with `df.unique()`.  **Hint:** You can test for duplicated values on specific columns."
   ]
  },
  {
   "cell_type": "code",
   "execution_count": null,
   "metadata": {},
   "outputs": [],
   "source": [
    "# your answer here"
   ]
  },
  {
   "cell_type": "markdown",
   "metadata": {},
   "source": [
    "**9). See if you can query a dataframe so that it only returns rows with passengers that are traveling in groups, based on their ticket numbers.**\n",
    "\n",
    "To use: `df.isin()`, assuming you used the approach suggested in the previous question."
   ]
  },
  {
   "cell_type": "code",
   "execution_count": null,
   "metadata": {},
   "outputs": [],
   "source": [
    "# your answer here"
   ]
  },
  {
   "cell_type": "markdown",
   "metadata": {},
   "source": [
    "**10).  Can you only select columns that are text based?**\n",
    "\n",
    "To use: `df.select_dtypes()`, and (optionally) the `columns` attribute.  **Note:** `columns` is NOT a method!"
   ]
  },
  {
   "cell_type": "code",
   "execution_count": null,
   "metadata": {},
   "outputs": [],
   "source": [
    "# your answer here"
   ]
  },
  {
   "cell_type": "markdown",
   "metadata": {},
   "source": [
    "**11).  Can you only select columns that are numeric?**\n",
    "\n",
    "To use: `df.select_dtypes()`.  This question is very similar to the one above it, just for a different data type."
   ]
  },
  {
   "cell_type": "code",
   "execution_count": null,
   "metadata": {},
   "outputs": [],
   "source": [
    "# your answer here"
   ]
  },
  {
   "cell_type": "markdown",
   "metadata": {},
   "source": [
    "**12). Can you fill in the missing values of your numeric columns with their average value?**\n",
    "\n",
    "To use: `df.fillna()`, to be used in conjunction with the suggested methods from question 11."
   ]
  },
  {
   "cell_type": "code",
   "execution_count": null,
   "metadata": {},
   "outputs": [],
   "source": [
    "# your answer here"
   ]
  }
 ],
 "metadata": {
  "kernelspec": {
   "display_name": "Python 3",
   "language": "python",
   "name": "python3"
  },
  "language_info": {
   "codemirror_mode": {
    "name": "ipython",
    "version": 3
   },
   "file_extension": ".py",
   "mimetype": "text/x-python",
   "name": "python",
   "nbconvert_exporter": "python",
   "pygments_lexer": "ipython3",
   "version": "3.7.1"
  }
 },
 "nbformat": 4,
 "nbformat_minor": 2
}
