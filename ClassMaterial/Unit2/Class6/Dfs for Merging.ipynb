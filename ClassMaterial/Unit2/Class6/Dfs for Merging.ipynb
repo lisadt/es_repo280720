{
 "cells": [
  {
   "cell_type": "code",
   "execution_count": 1,
   "metadata": {},
   "outputs": [],
   "source": [
    "import pandas as pd"
   ]
  },
  {
   "cell_type": "code",
   "execution_count": 5,
   "metadata": {},
   "outputs": [],
   "source": [
    "data1 = {\n",
    "    'Zone': ['West', 'South', 'West', 'North', 'East', 'South'],\n",
    "    'Person': ['Jack', 'Jane', 'Jill', 'Jason', 'Jordan', 'Jenna'],\n",
    "    'Division': ['Sales', 'Marketing', 'Sales', 'Operations', 'Admin', 'Sales']\n",
    "}\n",
    "\n",
    "df1 = pd.DataFrame(data1)"
   ]
  },
  {
   "cell_type": "code",
   "execution_count": 6,
   "metadata": {},
   "outputs": [],
   "source": [
    "data2 = {\n",
    "    'Region'  : ['West', 'East', 'West', 'North', 'East', 'Midwest'],\n",
    "    'Person'  : ['Jack', 'Jackson', 'Jill', 'Jason', 'Jordan', 'Adam'],\n",
    "    'Division': ['Sales', 'Management', 'Sales', 'Operations', 'Admin', 'Admin']\n",
    "}\n",
    "\n",
    "df2 = pd.DataFrame(data2)"
   ]
  },
  {
   "cell_type": "code",
   "execution_count": null,
   "metadata": {},
   "outputs": [],
   "source": []
  }
 ],
 "metadata": {
  "kernelspec": {
   "display_name": "Python 3",
   "language": "python",
   "name": "python3"
  },
  "language_info": {
   "codemirror_mode": {
    "name": "ipython",
    "version": 3
   },
   "file_extension": ".py",
   "mimetype": "text/x-python",
   "name": "python",
   "nbconvert_exporter": "python",
   "pygments_lexer": "ipython3",
   "version": "3.7.3"
  }
 },
 "nbformat": 4,
 "nbformat_minor": 2
}
